{
 "cells": [
  {
   "cell_type": "markdown",
   "metadata": {
    "tags": []
   },
   "source": [
    "# CSE 5243 - Introduction to Data Mining\n",
    "## Homework 2: Classification\n",
    "- Semester: Fall 2022\n",
    "- Instructor: Greg Ryslik\n",
    "- Section: Wednesday 12:45\n",
    "- Student Name: Shreeya Behera\n",
    "- Name.#: behera.18@osu.edu\n",
    "***"
   ]
  },
  {
   "cell_type": "markdown",
   "metadata": {},
   "source": [
    "# Introduction\n",
    "\n",
    "### Objectives\n",
    "\n",
    "In this lab, you will use the \"Cleveland Data CLEANED AND TRIMMED.csv\" heart disease dataset provided on Carmen.  It is a subset of the \"Cleveland\" dataset that can be found here: https://archive.ics.uci.edu/ml/datasets/Heart+Disease\n",
    "\n",
    "You will configure, execute, and evaluate an off-the-shelf K-Nearest-Neighbor classifier and two other classifiers you choose.\n",
    "\n",
    "The objectives of this assignment are:\n",
    "1.\tUnderstand how to evaluate classifiers based on business criteria.\n",
    "2.\tUnderstand how to tune and evaluate a classifier to achieve good performance.\n",
    "3.\tUnderstand how to select and evaluate suitable off-the-shelf classifiers based on the characteristics of a dataset and the outcomes you need.\n",
    "\n",
    "### Problem Statement\n",
    "\n",
    "You work for a medical institution that wants to improve the heart health of its patients.  You have obtained a dataset that contains a variety of demographic and health-related information for a group of patients.  It also includes a CLASS variable \"num\" that indicates the heart health of each of the patients.  The values are:\n",
    "\n",
    "0. No heart health issues / risk\n",
    "1. Slight heart health issues / risk\n",
    "2. Moderate heart health issues / risk\n",
    "3. High heart health issues / risk\n",
    "4. Extreme heart health issue / risk\n",
    "\n",
    "You have been asked to develop a classifier based on the dataset data, to predict the CLASS of new patients so they can be enrolled in interventions based on their demographic data.\n",
    "\n",
    "The COSTs of the interventions are as follows, based on the predicted class of each patient\n",
    "\n",
    "0) Tiny intervention: 100 (dollars)\n",
    "1) Minor intervention: 200\n",
    "2) Moderate intervention: 300\n",
    "3) Significant intervention: 400\n",
    "4) Extreme intervention: 500\n",
    "\n",
    "The BENEFITs of the interventions are as follows:\n",
    "\n",
    "- If the classification is correct and the correct intervention given to the patient: 500 * (TRUE_CLASS + 1)\n",
    "- If an incorrect classification is made and the wrong intervention is given to the patient: 0\n",
    "\n",
    "You would like to find a classifier that maximizes the overall **NET_BENEFIT = BENEFIT - COST**. Therefore, a larger positive number is a good outcome.\n",
    "\n",
    "So, for example:\n",
    "\n",
    "- If a patient's true class is 4 and their predicted class is 0, their NET_BENEFIT = 0 - 100 = -100\n",
    "- If a patient's true class is 4 and they are correctly classified, their NET_BENEFIT is 500*(4+1) - 500 = 2000\n",
    "\n",
    "The medical institution would like you to evaluate the use of a K-Nearest-Neighbor classifier as a starting point.  You agree to do so, as long as you then can choose a different classifier if you are not satisfied with KNN.\n",
    "\n",
    "### Collaboration\n",
    "For this assignment, you should work as an individual. You may informally discuss ideas with classmates, but your work should be your own.\n",
    "\n",
    "### What you need to turn in:\n",
    "1)\tCode\n",
    "\n",
    "-\tFor this homework, the code is the Jupyter Notebook.  Use the provided Jupyter Notebook template, and fill in the appropriate information.\n",
    "-\tYou may use common Python libraries for I/O, data manipulation, data visualization, etc. (e.g., NumPy, Pandas, MatPlotLib,…  See reference below.) \n",
    "-\tYou may not use library operations that perform, in effect, the “core” computations for this homework (e.g., If the assignment is to write a K-Means algorithm, you may not use a library operation that, in effect, does the core work needed to implement a K-Means algorithm.).  When in doubt, ask the grader or instructor.\n",
    "-\tThe code must be written by you, and any significant code snips you found on the Internet and used to understand how to do your coding for the core functionality must be attributed.  (You do not need to attribute basic functionality – matrix operations, IO, etc.)\n",
    "-\tThe code must be commented sufficiently to allow a reader to understand the algorithm without reading the actual Python, step by step.\n",
    "-\tWhen in doubt, ask the grader or instructor.\n",
    "\n",
    "2)\tWritten Report\n",
    "-\tFor this homework, the report is the Jupyter Notebook.  The report should be well-written.  Please proof-read and remove spelling and grammar errors and typos.\n",
    "-\tThe report should discuss your analysis and observations. Key points and findings must be written in a style suitable for consumption by non-experts.  Present charts and graphs to support your observations. If you performed any data processing, cleaning, etc., please discuss it within the report.\n",
    "\n",
    "### Grading\n",
    "\n",
    "1.\tOverall readability and organization of your report (5%)\n",
    "> - Is it well organized and does the presentation flow in a logical manner?\n",
    "> - Are there no grammar and spelling mistakes?\n",
    "> - Do the charts/graphs relate to the text?\n",
    "> - Are the summarized key points and findings understandable by non-experts?\n",
    "> - Do the Overview and Conclusions provide context for the entire exercise?\n",
    "2.\tEvaluation Method (10%)\n",
    "> - Does your evaluation method meet the needs of the developer (you) as well as the needs of your business stakeholders?\n",
    "> - Is the evaluation method sound?\n",
    "> - Did you describe both the method itself and why you chose it?\n",
    "3.\tPre-Processing of the Dataset (10%)\n",
    "> - Did you make reasonable choices for pre-processing, and explain why you made them?\n",
    "4.\tEvaluation of the KNN Classifier (20%)\n",
    "> - Is your algorithm design and coding correct?\n",
    "> - Is it well documented?\n",
    "> - Have you made an effort to tune it for good performance?\n",
    "> - Is the evaluation sound?\n",
    "5.\tEvaluation of the Second Classifier (20%)\n",
    "> - Is your algorithm design and coding correct?\n",
    "> - Is it well documented?\n",
    "> - Have you made an effort to tune it for good performance?\n",
    "> - Is the evaluation sound?\n",
    "6.\tEvaluation of the Third Classifier (20%)\n",
    "> - Is your algorithm design and coding correct?\n",
    "> - Is it well documented?\n",
    "> - Have you made an effort to tune it for good performance?\n",
    "> - Is the evaluation sound?\n",
    "7.\tComparison of the Three Classifiers (10%)\n",
    "> - Is the comparison sound?\n",
    "> - Did you choose a specific classifier as best and explain why?\n",
    "8.  Conclusions (5%)\n",
    "> - Did you summarize appropriately your critical findings. \n",
    "> - Did you provide appropriate conclusions and next steps.\n",
    "\n",
    "### How to turn in your work on Carmen:\n",
    "\n",
    "Submit to Carmen the Jupyter Notebook, the html print out of your Jupyter notebook, and any supporting files that you used to process and analyze this data. You do not need to include the input data.  All submitted files (code and/or report) except for the data should be archived in a *.zip file, and submitted via Carmen.  Use this naming convention:\n",
    " \n",
    "•\tHW2_Surname_DotNumber.zip\n",
    "\n",
    "The submitted file should be less than 10MB.\n",
    "\n",
    "***"
   ]
  },
  {
   "cell_type": "markdown",
   "metadata": {
    "tags": []
   },
   "source": [
    "***\n",
    "# Section: Overview\n",
    "- Insert a short description of the scope of this exercise, any supporting information, etc.\n",
    "***"
   ]
  },
  {
   "cell_type": "markdown",
   "metadata": {},
   "source": [
    "#Source: Classification models for heart disease prediction using feature selection and PCA\n",
    "\n",
    "In the past 10-15 years, Heart disease has become one of the leading cause of death in the world. \n",
    "The growth in medical data collection presents a new opportunity for physicians to improve patient diagnosis. In recent years, practitioners have increased their usage of computer technologies to improve decision-making support. In the health care industry, machine learning is becoming an important solution to aid the diagnosis of patients. Several data mining techniques can be used to help health care professionals in the diagnosis of heart disease. Prediction should be made to decrease the risk of heart disease.\n",
    "\n",
    "We used features such as cholesterol, max heart rate, and fasting blood sugar to predict the severity of heart diseases. We used a custom made evaluation metric to predict the most efficient model out of the three models I used (KNN, Logistic Regression, and Random Forest)"
   ]
  },
  {
   "cell_type": "markdown",
   "metadata": {},
   "source": [
    "***\n",
    "# Section: Setup\n",
    "- Add any needed imports, helper functions, etc., here.\n",
    "***"
   ]
  },
  {
   "cell_type": "code",
   "execution_count": 44,
   "metadata": {},
   "outputs": [],
   "source": [
    "import numpy as np\n",
    "import pandas as pd\n",
    "import seaborn as sns\n",
    "import matplotlib.pyplot as plt\n",
    "\n",
    "from mpl_toolkits.mplot3d import Axes3D\n",
    "sns.set_theme(style=\"whitegrid\")\n",
    "\n",
    "np.random.seed(47)\n",
    "\n",
    "import warnings\n",
    "warnings.filterwarnings('ignore')"
   ]
  },
  {
   "cell_type": "markdown",
   "metadata": {},
   "source": [
    "***\n",
    "# Section: 1 - Evaluation Method\n",
    "- Define measures for evaluating the classification models you develop.  Explain why the measures you choose provide a useful view into the value and usefulness of the model you eventually chose for the company to use.  Define two types:\n",
    "***"
   ]
  },
  {
   "cell_type": "markdown",
   "metadata": {},
   "source": [
    "***\n",
    "## Section: 1.1 - Define measures that do not include the cost information\n",
    "- (e.g., confusion matrices, accuracy, precision, recall, F-measures, etc.).\n",
    "- Consider using: from sklearn.metrics import classification_report, confusion_matrix\n",
    "***"
   ]
  },
  {
   "cell_type": "code",
   "execution_count": 45,
   "metadata": {},
   "outputs": [],
   "source": [
    "from sklearn.metrics import classification_report, confusion_matrix, accuracy_score"
   ]
  },
  {
   "cell_type": "markdown",
   "metadata": {},
   "source": []
  },
  {
   "cell_type": "markdown",
   "metadata": {},
   "source": [
    "Accuracy is one metric for evaluating classification models.\n",
    "\n",
    "Accuracy $=\\frac{\\text { Number of correct predictions }}{\\text { Total number of predictions }}$\n",
    "For binary classification, accuracy can also be calculated in terms of positives and negatives as follows:\n",
    "$$\n",
    "\\text { Accuracy }=\\frac{T P+T N}{T P+T N+F P+F N}\n",
    "$$\n",
    "\n",
    "Where $T P=$ True Positives, $T N=$ True Negatives, $F P=$ False Positives, and $F N=$ False Negatives."
   ]
  },
  {
   "cell_type": "markdown",
   "metadata": {},
   "source": [
    "The confusion matrix is a table that is used in classification problems to assess where errors in the model were made.\n",
    "\n",
    "The rows represent the actual classes the outcomes should have been. While the columns represent the predictions we have made. Using this table it is easy to see which predictions are wrong."
   ]
  },
  {
   "cell_type": "markdown",
   "metadata": {},
   "source": [
    "***\n",
    "## Section: 1.2 - Define measures that do include the cost information\n",
    "- (e.g., using cost matrices).\n",
    "- Consider creating a function that takes a confusion matrix and calculates the cost, like this:\n",
    "***"
   ]
  },
  {
   "cell_type": "code",
   "execution_count": 46,
   "metadata": {},
   "outputs": [],
   "source": [
    "# def calculate_cost(conf_matrix):\n",
    "# # Fill in the cost matrix values\n",
    "# #                           PREDICTED VALUES\n",
    "# #                      0     1     2     3     4\n",
    "#     cost_matrix = [[1234, 1234, 1234, 1234, 1234],   # 0\n",
    "#                    [1234, 1234, 1234, 1234, 1234],   # 1\n",
    "#                    [1234, 1234, 1234, 1234, 1234],   # 2  TRUE VALUES\n",
    "#                    [1234, 1234, 1234, 1234, 1234],   # 3\n",
    "#                    [1234, 1234, 1234, 1234, 1234]]   # 4\n",
    "#     total = 0\n",
    "#     for r in range(0, 5):\n",
    "#         for c in range(0, 5):\n",
    "#             total = total + cost_matrix[r][c] * conf_matrix[r][c]\n",
    "\n",
    "# # OR... THIS WORKS      total = np.dot(np.array(conf_matrix).ravel(), np.array(cost_matrix).ravel())\n",
    "#     return total\n",
    "\n",
    "def calculate_cost(conf_matrix):\n",
    "    cost_matrix = np.zeros((5,5));\n",
    "    for i in range(5):\n",
    "        for j in range(5):\n",
    "            if i!=j:\n",
    "                cost_matrix[i][j] = -(j+1)*100;\n",
    "            else:\n",
    "                cost_matrix[i][j] = 500*(j+1) - (j+1)*100;\n",
    "\n",
    "    total = 0\n",
    "    for r in range(0, 5):\n",
    "        for c in range(0, 5):\n",
    "            total = total + cost_matrix[r][c] * conf_matrix[r][c]\n",
    "    return total\n",
    "\n",
    "     "
   ]
  },
  {
   "cell_type": "markdown",
   "metadata": {},
   "source": [
    "***\n",
    "# Section: 2 - Pre-Processing of the Dataset\n",
    "- Use the provided dataset.  Split it into a Training dataset and a Test dataset based on the class attribute.  Keep them separate and use the Training dataset for training/tuning and the Test dataset for testing. For consistency, use the **train_test_split** operation available in SciKit Learn (use a specific random seed, so it is reproducible).\n",
    "  - from sklearn.model_selection import train_test_split\n",
    "  - X_train, X_test, y_train, y_test = train_test_split(X, y, test_size=0.33, random_state=42)\n",
    "***"
   ]
  },
  {
   "cell_type": "markdown",
   "metadata": {},
   "source": [
    "***\n",
    "## Section: 2.1 - Explore the attributes\n",
    "- As in Homework 1, explore the attributes briefly. Reference the website listed in the Introduction.\n",
    "- Provide basic statistics for the attributes.\n",
    "- List which attributes are Nominal (even though they are encoded as numbers), Ordinal, Interval, Ratio.\n",
    "***"
   ]
  },
  {
   "cell_type": "markdown",
   "metadata": {},
   "source": [
    "Source: https://archive.ics.uci.edu/ml/datasets/Heart+Disease \n",
    "\n",
    "This database contains $76$ attributes, but all published experiments refer to using a subset of $14$ of them. In particular, the Cleveland database is the only one that has been used by ML researchers to\n",
    "this date. The \"goal\" field refers to the presence of heart disease in the patient. It is integer valued from 0 (no presence) to 4. Experiments with the Cleveland database have concentrated on simply attempting to distinguish presence (values 1,2,3,4) from absence (value 0).\n",
    "\n",
    "Only 14 attributes used:\n",
    "1.  \\# 3 (age) age: age in years\n",
    "2.  \\# 4 (sex) sex (1 = male; 0 = female)\n",
    "3.  \\# 9 (cp) chest pain type\n",
    "-- Value 1: typical angina\n",
    "-- Value 2: atypical angina\n",
    "-- Value 3: non-anginal pain\n",
    "-- Value 4: asymptomatic\n",
    "4.  \\# 10 (trestbps) resting blood pressure (in mm Hg on admission to the hospital)(normal 120/80 mmHg)\n",
    "5.  \\# 12 (chol) serum cholestoral in mg/dl (<130 mg/dl>)\n",
    "6.  \\# 16 (fbs) (fasting blood sugar > 120 mg/dl) (1 = true; 0 = false)\n",
    "7.  \\# 19 (restecg)  resting electrocardiographic results\n",
    "-- Value 0: normal\n",
    "-- Value 1: having ST-T wave abnormality (T wave inversions and/or ST elevation or depression of > 0.05 mV)\n",
    "-- Value 2: showing probable or definite left ventricular hypertrophy by Estes' criteria\n",
    "8.  \\# 32 (thalach) thalach: maximum heart rate achieved\n",
    "9.  \\# 38 (exang) exercise induced angina (1 = yes; 0 = no)\n",
    "10.  \\# 40 (oldpeak) ST depression induced by exercise relative to rest\n",
    "11.  \\# 41 (slope) the slope of the peak exercise ST segment\n",
    "-- Value 1: upsloping\n",
    "-- Value 2: flat\n",
    "-- Value 3: downsloping\n",
    "12.  \\# 44 (ca) number of major vessels (0-3) colored by flourosopy\n",
    "13.  \\# 51 (thal) 3 = normal; 6 = fixed defect; 7 = reversable defect\n",
    "14.  \\# 58 (num) (the predicted attribute)  diagnosis of heart disease (angiographic disease status)\n",
    "-- Value 0: < 50% diameter narrowing\n",
    "-- Value 1: > 50% diameter narrowing"
   ]
  },
  {
   "cell_type": "code",
   "execution_count": 47,
   "metadata": {},
   "outputs": [
    {
     "data": {
      "text/html": [
       "<div>\n",
       "<style scoped>\n",
       "    .dataframe tbody tr th:only-of-type {\n",
       "        vertical-align: middle;\n",
       "    }\n",
       "\n",
       "    .dataframe tbody tr th {\n",
       "        vertical-align: top;\n",
       "    }\n",
       "\n",
       "    .dataframe thead th {\n",
       "        text-align: right;\n",
       "    }\n",
       "</style>\n",
       "<table border=\"1\" class=\"dataframe\">\n",
       "  <thead>\n",
       "    <tr style=\"text-align: right;\">\n",
       "      <th></th>\n",
       "      <th>id</th>\n",
       "      <th>age</th>\n",
       "      <th>sex</th>\n",
       "      <th>cp</th>\n",
       "      <th>trestbps</th>\n",
       "      <th>chol</th>\n",
       "      <th>fbs</th>\n",
       "      <th>restecg</th>\n",
       "      <th>thalach</th>\n",
       "      <th>exang</th>\n",
       "      <th>oldpeak</th>\n",
       "      <th>slope</th>\n",
       "      <th>ca</th>\n",
       "      <th>thal</th>\n",
       "      <th>num</th>\n",
       "    </tr>\n",
       "  </thead>\n",
       "  <tbody>\n",
       "    <tr>\n",
       "      <th>0</th>\n",
       "      <td>1.0</td>\n",
       "      <td>63.0</td>\n",
       "      <td>1.0</td>\n",
       "      <td>1.0</td>\n",
       "      <td>145.0</td>\n",
       "      <td>233.0</td>\n",
       "      <td>1.0</td>\n",
       "      <td>2.0</td>\n",
       "      <td>150.0</td>\n",
       "      <td>0.0</td>\n",
       "      <td>2.3</td>\n",
       "      <td>3.0</td>\n",
       "      <td>0.0</td>\n",
       "      <td>6.0</td>\n",
       "      <td>0.0</td>\n",
       "    </tr>\n",
       "    <tr>\n",
       "      <th>1</th>\n",
       "      <td>2.0</td>\n",
       "      <td>67.0</td>\n",
       "      <td>1.0</td>\n",
       "      <td>4.0</td>\n",
       "      <td>160.0</td>\n",
       "      <td>286.0</td>\n",
       "      <td>0.0</td>\n",
       "      <td>2.0</td>\n",
       "      <td>108.0</td>\n",
       "      <td>1.0</td>\n",
       "      <td>1.5</td>\n",
       "      <td>2.0</td>\n",
       "      <td>3.0</td>\n",
       "      <td>3.0</td>\n",
       "      <td>2.0</td>\n",
       "    </tr>\n",
       "    <tr>\n",
       "      <th>2</th>\n",
       "      <td>3.0</td>\n",
       "      <td>67.0</td>\n",
       "      <td>1.0</td>\n",
       "      <td>4.0</td>\n",
       "      <td>120.0</td>\n",
       "      <td>229.0</td>\n",
       "      <td>0.0</td>\n",
       "      <td>2.0</td>\n",
       "      <td>129.0</td>\n",
       "      <td>1.0</td>\n",
       "      <td>2.6</td>\n",
       "      <td>2.0</td>\n",
       "      <td>2.0</td>\n",
       "      <td>7.0</td>\n",
       "      <td>1.0</td>\n",
       "    </tr>\n",
       "    <tr>\n",
       "      <th>3</th>\n",
       "      <td>4.0</td>\n",
       "      <td>37.0</td>\n",
       "      <td>1.0</td>\n",
       "      <td>3.0</td>\n",
       "      <td>130.0</td>\n",
       "      <td>250.0</td>\n",
       "      <td>0.0</td>\n",
       "      <td>0.0</td>\n",
       "      <td>187.0</td>\n",
       "      <td>0.0</td>\n",
       "      <td>3.5</td>\n",
       "      <td>3.0</td>\n",
       "      <td>0.0</td>\n",
       "      <td>3.0</td>\n",
       "      <td>0.0</td>\n",
       "    </tr>\n",
       "    <tr>\n",
       "      <th>4</th>\n",
       "      <td>5.0</td>\n",
       "      <td>41.0</td>\n",
       "      <td>0.0</td>\n",
       "      <td>2.0</td>\n",
       "      <td>130.0</td>\n",
       "      <td>204.0</td>\n",
       "      <td>0.0</td>\n",
       "      <td>2.0</td>\n",
       "      <td>172.0</td>\n",
       "      <td>0.0</td>\n",
       "      <td>1.4</td>\n",
       "      <td>1.0</td>\n",
       "      <td>0.0</td>\n",
       "      <td>3.0</td>\n",
       "      <td>0.0</td>\n",
       "    </tr>\n",
       "  </tbody>\n",
       "</table>\n",
       "</div>"
      ],
      "text/plain": [
       "    id   age  sex   cp  trestbps   chol  fbs  restecg  thalach  exang  \\\n",
       "0  1.0  63.0  1.0  1.0     145.0  233.0  1.0      2.0    150.0    0.0   \n",
       "1  2.0  67.0  1.0  4.0     160.0  286.0  0.0      2.0    108.0    1.0   \n",
       "2  3.0  67.0  1.0  4.0     120.0  229.0  0.0      2.0    129.0    1.0   \n",
       "3  4.0  37.0  1.0  3.0     130.0  250.0  0.0      0.0    187.0    0.0   \n",
       "4  5.0  41.0  0.0  2.0     130.0  204.0  0.0      2.0    172.0    0.0   \n",
       "\n",
       "   oldpeak  slope   ca  thal  num  \n",
       "0      2.3    3.0  0.0   6.0  0.0  \n",
       "1      1.5    2.0  3.0   3.0  2.0  \n",
       "2      2.6    2.0  2.0   7.0  1.0  \n",
       "3      3.5    3.0  0.0   3.0  0.0  \n",
       "4      1.4    1.0  0.0   3.0  0.0  "
      ]
     },
     "execution_count": 47,
     "metadata": {},
     "output_type": "execute_result"
    }
   ],
   "source": [
    "data = pd.read_csv(\"Cleveland Data CLEANED AND TRIMMED.csv\")\n",
    "data = data.astype('float32')\n",
    "data = data.astype({\"num\":\"category\"})\n",
    "data.head()"
   ]
  },
  {
   "cell_type": "code",
   "execution_count": 48,
   "metadata": {},
   "outputs": [
    {
     "data": {
      "text/html": [
       "<div>\n",
       "<style scoped>\n",
       "    .dataframe tbody tr th:only-of-type {\n",
       "        vertical-align: middle;\n",
       "    }\n",
       "\n",
       "    .dataframe tbody tr th {\n",
       "        vertical-align: top;\n",
       "    }\n",
       "\n",
       "    .dataframe thead th {\n",
       "        text-align: right;\n",
       "    }\n",
       "</style>\n",
       "<table border=\"1\" class=\"dataframe\">\n",
       "  <thead>\n",
       "    <tr style=\"text-align: right;\">\n",
       "      <th></th>\n",
       "      <th>id</th>\n",
       "      <th>age</th>\n",
       "      <th>sex</th>\n",
       "      <th>cp</th>\n",
       "      <th>trestbps</th>\n",
       "      <th>chol</th>\n",
       "      <th>fbs</th>\n",
       "      <th>restecg</th>\n",
       "      <th>thalach</th>\n",
       "      <th>exang</th>\n",
       "      <th>oldpeak</th>\n",
       "      <th>slope</th>\n",
       "      <th>ca</th>\n",
       "      <th>thal</th>\n",
       "    </tr>\n",
       "  </thead>\n",
       "  <tbody>\n",
       "    <tr>\n",
       "      <th>count</th>\n",
       "      <td>282.000000</td>\n",
       "      <td>282.000000</td>\n",
       "      <td>282.000000</td>\n",
       "      <td>282.000000</td>\n",
       "      <td>282.000000</td>\n",
       "      <td>282.000000</td>\n",
       "      <td>282.000000</td>\n",
       "      <td>282.000000</td>\n",
       "      <td>282.000000</td>\n",
       "      <td>282.000000</td>\n",
       "      <td>282.000000</td>\n",
       "      <td>282.000000</td>\n",
       "      <td>282.000000</td>\n",
       "      <td>282.000000</td>\n",
       "    </tr>\n",
       "    <tr>\n",
       "      <th>mean</th>\n",
       "      <td>141.500000</td>\n",
       "      <td>54.411346</td>\n",
       "      <td>0.677305</td>\n",
       "      <td>3.163121</td>\n",
       "      <td>131.563828</td>\n",
       "      <td>249.092194</td>\n",
       "      <td>0.148936</td>\n",
       "      <td>1.014184</td>\n",
       "      <td>149.765961</td>\n",
       "      <td>0.326241</td>\n",
       "      <td>1.026950</td>\n",
       "      <td>1.585106</td>\n",
       "      <td>0.595745</td>\n",
       "      <td>4.581560</td>\n",
       "    </tr>\n",
       "    <tr>\n",
       "      <th>std</th>\n",
       "      <td>81.550598</td>\n",
       "      <td>9.053083</td>\n",
       "      <td>0.468338</td>\n",
       "      <td>0.955405</td>\n",
       "      <td>17.757492</td>\n",
       "      <td>51.217541</td>\n",
       "      <td>0.356659</td>\n",
       "      <td>0.998117</td>\n",
       "      <td>22.923866</td>\n",
       "      <td>0.469671</td>\n",
       "      <td>1.138825</td>\n",
       "      <td>0.609700</td>\n",
       "      <td>1.236910</td>\n",
       "      <td>2.248469</td>\n",
       "    </tr>\n",
       "    <tr>\n",
       "      <th>min</th>\n",
       "      <td>1.000000</td>\n",
       "      <td>29.000000</td>\n",
       "      <td>0.000000</td>\n",
       "      <td>1.000000</td>\n",
       "      <td>94.000000</td>\n",
       "      <td>126.000000</td>\n",
       "      <td>0.000000</td>\n",
       "      <td>0.000000</td>\n",
       "      <td>71.000000</td>\n",
       "      <td>0.000000</td>\n",
       "      <td>0.000000</td>\n",
       "      <td>1.000000</td>\n",
       "      <td>-9.000000</td>\n",
       "      <td>-9.000000</td>\n",
       "    </tr>\n",
       "    <tr>\n",
       "      <th>25%</th>\n",
       "      <td>71.250000</td>\n",
       "      <td>48.000000</td>\n",
       "      <td>0.000000</td>\n",
       "      <td>3.000000</td>\n",
       "      <td>120.000000</td>\n",
       "      <td>213.000000</td>\n",
       "      <td>0.000000</td>\n",
       "      <td>0.000000</td>\n",
       "      <td>133.250000</td>\n",
       "      <td>0.000000</td>\n",
       "      <td>0.000000</td>\n",
       "      <td>1.000000</td>\n",
       "      <td>0.000000</td>\n",
       "      <td>3.000000</td>\n",
       "    </tr>\n",
       "    <tr>\n",
       "      <th>50%</th>\n",
       "      <td>141.500000</td>\n",
       "      <td>55.000000</td>\n",
       "      <td>1.000000</td>\n",
       "      <td>3.000000</td>\n",
       "      <td>130.000000</td>\n",
       "      <td>244.000000</td>\n",
       "      <td>0.000000</td>\n",
       "      <td>2.000000</td>\n",
       "      <td>153.500000</td>\n",
       "      <td>0.000000</td>\n",
       "      <td>0.800000</td>\n",
       "      <td>2.000000</td>\n",
       "      <td>0.000000</td>\n",
       "      <td>3.000000</td>\n",
       "    </tr>\n",
       "    <tr>\n",
       "      <th>75%</th>\n",
       "      <td>211.750000</td>\n",
       "      <td>61.000000</td>\n",
       "      <td>1.000000</td>\n",
       "      <td>4.000000</td>\n",
       "      <td>140.000000</td>\n",
       "      <td>277.000000</td>\n",
       "      <td>0.000000</td>\n",
       "      <td>2.000000</td>\n",
       "      <td>165.750000</td>\n",
       "      <td>1.000000</td>\n",
       "      <td>1.600000</td>\n",
       "      <td>2.000000</td>\n",
       "      <td>1.000000</td>\n",
       "      <td>7.000000</td>\n",
       "    </tr>\n",
       "    <tr>\n",
       "      <th>max</th>\n",
       "      <td>282.000000</td>\n",
       "      <td>77.000000</td>\n",
       "      <td>1.000000</td>\n",
       "      <td>4.000000</td>\n",
       "      <td>200.000000</td>\n",
       "      <td>564.000000</td>\n",
       "      <td>1.000000</td>\n",
       "      <td>2.000000</td>\n",
       "      <td>202.000000</td>\n",
       "      <td>1.000000</td>\n",
       "      <td>6.200000</td>\n",
       "      <td>3.000000</td>\n",
       "      <td>3.000000</td>\n",
       "      <td>7.000000</td>\n",
       "    </tr>\n",
       "  </tbody>\n",
       "</table>\n",
       "</div>"
      ],
      "text/plain": [
       "               id         age         sex          cp    trestbps        chol  \\\n",
       "count  282.000000  282.000000  282.000000  282.000000  282.000000  282.000000   \n",
       "mean   141.500000   54.411346    0.677305    3.163121  131.563828  249.092194   \n",
       "std     81.550598    9.053083    0.468338    0.955405   17.757492   51.217541   \n",
       "min      1.000000   29.000000    0.000000    1.000000   94.000000  126.000000   \n",
       "25%     71.250000   48.000000    0.000000    3.000000  120.000000  213.000000   \n",
       "50%    141.500000   55.000000    1.000000    3.000000  130.000000  244.000000   \n",
       "75%    211.750000   61.000000    1.000000    4.000000  140.000000  277.000000   \n",
       "max    282.000000   77.000000    1.000000    4.000000  200.000000  564.000000   \n",
       "\n",
       "              fbs     restecg     thalach       exang     oldpeak       slope  \\\n",
       "count  282.000000  282.000000  282.000000  282.000000  282.000000  282.000000   \n",
       "mean     0.148936    1.014184  149.765961    0.326241    1.026950    1.585106   \n",
       "std      0.356659    0.998117   22.923866    0.469671    1.138825    0.609700   \n",
       "min      0.000000    0.000000   71.000000    0.000000    0.000000    1.000000   \n",
       "25%      0.000000    0.000000  133.250000    0.000000    0.000000    1.000000   \n",
       "50%      0.000000    2.000000  153.500000    0.000000    0.800000    2.000000   \n",
       "75%      0.000000    2.000000  165.750000    1.000000    1.600000    2.000000   \n",
       "max      1.000000    2.000000  202.000000    1.000000    6.200000    3.000000   \n",
       "\n",
       "               ca        thal  \n",
       "count  282.000000  282.000000  \n",
       "mean     0.595745    4.581560  \n",
       "std      1.236910    2.248469  \n",
       "min     -9.000000   -9.000000  \n",
       "25%      0.000000    3.000000  \n",
       "50%      0.000000    3.000000  \n",
       "75%      1.000000    7.000000  \n",
       "max      3.000000    7.000000  "
      ]
     },
     "execution_count": 48,
     "metadata": {},
     "output_type": "execute_result"
    }
   ],
   "source": [
    "data.describe()"
   ]
  },
  {
   "cell_type": "code",
   "execution_count": 49,
   "metadata": {},
   "outputs": [
    {
     "data": {
      "text/plain": [
       "<AxesSubplot:>"
      ]
     },
     "execution_count": 49,
     "metadata": {},
     "output_type": "execute_result"
    },
    {
     "data": {
      "image/png": "[encoded data removed]",
      "text/plain": [
       "<Figure size 432x288 with 1 Axes>"
      ]
     },
     "metadata": {},
     "output_type": "display_data"
    }
   ],
   "source": [
    "data.num.value_counts(sort=False).plot.bar()"
   ]
  },
  {
   "cell_type": "code",
   "execution_count": 50,
   "metadata": {},
   "outputs": [
    {
     "data": {
      "image/png": "[encoded data removed]",
      "text/plain": [
       "<Figure size 918.975x864 with 20 Axes>"
      ]
     },
     "metadata": {},
     "output_type": "display_data"
    }
   ],
   "source": [
    "# Plotting sns plot with relevant features (features which do not take only few different values)\n",
    "\n",
    "X_tt = data[[\"age\",\"chol\",\"thalach\",\"oldpeak\",\"num\"]];\n",
    "import seaborn as sns\n",
    "sns.pairplot(X_tt , hue=\"num\", height=3, palette = 'viridis')\n",
    "plt.show()"
   ]
  },
  {
   "cell_type": "code",
   "execution_count": 51,
   "metadata": {},
   "outputs": [
    {
     "data": {
      "application/vnd.plotly.v1+json": {
       "config": {
        "plotlyServerURL": "https://plot.ly"
       },
       "data": [
        {
         "hovertemplate": "num=0.0<br>thalach=%{x}<br>oldpeak=%{y}<extra></extra>",
         "legendgroup": "0.0",
         "marker": {
          "color": "#1F77B4",
          "symbol": "circle"
         },
         "mode": "markers",
         "name": "0.0",
         "orientation": "v",
         "showlegend": true,
         "type": "scatter",
         "x": [
          150,
          187,
          172,
          178,
          163,
          148,
          153,
          173,
          162,
          174,
          160,
          139,
          171,
          144,
          162,
          158,
          172,
          114,
          171,
          151,
          161,
          179,
          178,
          137,
          178,
          162,
          157,
          123,
          157,
          152,
          168,
          140,
          188,
          152,
          125,
          160,
          170,
          165,
          148,
          151,
          142,
          180,
          148,
          143,
          182,
          172,
          180,
          156,
          115,
          160,
          149,
          151,
          146,
          175,
          172,
          158,
          186,
          185,
          174,
          159,
          130,
          156,
          190,
          132,
          165,
          182,
          143,
          175,
          170,
          163,
          147,
          154,
          202,
          186,
          165,
          161,
          166,
          164,
          184,
          154,
          179,
          170,
          160,
          178,
          122,
          160,
          151,
          156,
          158,
          122,
          175,
          168,
          169,
          159,
          138,
          111,
          157,
          147,
          162,
          173,
          178,
          145,
          179,
          194,
          163,
          115,
          131,
          152,
          162,
          159,
          154,
          173,
          133,
          161,
          155,
          170,
          168,
          162,
          172,
          152,
          122,
          182,
          172,
          167,
          179,
          192,
          143,
          172,
          169,
          121,
          163,
          162,
          162,
          153,
          163,
          163,
          96,
          140,
          126,
          105,
          157,
          181,
          173,
          142,
          116,
          143,
          149,
          171,
          169,
          150,
          138,
          125,
          155,
          152,
          152,
          131,
          179
         ],
         "xaxis": "x",
         "y": [
          2.299999952316284,
          3.5,
          1.399999976158142,
          0.800000011920929,
          0.6000000238418579,
          0.4000000059604645,
          1.2999999523162842,
          0,
          0.5,
          1.600000023841858,
          1.2000000476837158,
          0.20000000298023224,
          0.6000000238418579,
          1.7999999523162842,
          1,
          1.600000023841858,
          0,
          2.5999999046325684,
          1.5,
          1.7999999523162842,
          0.5,
          0.4000000059604645,
          0,
          1,
          1.399999976158142,
          0.4000000059604645,
          1.600000023841858,
          0.6000000238418579,
          0.800000011920929,
          1.2000000476837158,
          0,
          0.4000000059604645,
          0,
          0.5,
          1.399999976158142,
          1.399999976158142,
          0,
          1.600000023841858,
          0.800000011920929,
          0.800000011920929,
          1.5,
          0.20000000298023224,
          3,
          0.4000000059604645,
          0,
          0.20000000298023224,
          0,
          0,
          0,
          0,
          0.5,
          0.4000000059604645,
          1.7999999523162842,
          0.6000000238418579,
          0,
          0.800000011920929,
          0,
          0,
          0,
          0,
          0,
          0,
          0,
          0,
          0,
          1.399999976158142,
          1.2000000476837158,
          0.6000000238418579,
          0,
          0,
          0.4000000059604645,
          0,
          0,
          0,
          0.20000000298023224,
          1.399999976158142,
          2.4000000953674316,
          0,
          0,
          0.6000000238418579,
          0,
          0,
          0,
          1.2000000476837158,
          0.6000000238418579,
          1.600000023841858,
          1,
          0,
          1.600000023841858,
          1,
          0,
          0,
          0,
          0,
          0,
          0,
          1.2000000476837158,
          0.10000000149011612,
          1.899999976158142,
          0,
          0.800000011920929,
          4.199999809265137,
          0,
          0.800000011920929,
          0,
          1.5,
          0.10000000149011612,
          0.20000000298023224,
          1.100000023841858,
          0,
          0,
          0.20000000298023224,
          0.20000000298023224,
          0,
          0,
          0,
          2,
          1.899999976158142,
          0,
          0,
          2,
          0,
          0,
          0,
          0,
          0.699999988079071,
          0.10000000149011612,
          0,
          0.10000000149011612,
          0.20000000298023224,
          0,
          0,
          0,
          0,
          0,
          0,
          0,
          0,
          1.5,
          0.20000000298023224,
          0.6000000238418579,
          1.2000000476837158,
          0,
          0.30000001192092896,
          1.100000023841858,
          0,
          0.30000001192092896,
          0.8999999761581421,
          0,
          0,
          2.299999952316284,
          1.600000023841858,
          0.6000000238418579,
          0,
          0,
          0.6000000238418579,
          0
         ],
         "yaxis": "y"
        },
        {
         "alignmentgroup": "True",
         "hovertemplate": "num=0.0<br>thalach=%{x}<extra></extra>",
         "legendgroup": "0.0",
         "marker": {
          "color": "#1F77B4",
          "symbol": "circle"
         },
         "name": "0.0",
         "notched": true,
         "offsetgroup": "0.0",
         "showlegend": false,
         "type": "box",
         "x": [
          150,
          187,
          172,
          178,
          163,
          148,
          153,
          173,
          162,
          174,
          160,
          139,
          171,
          144,
          162,
          158,
          172,
          114,
          171,
          151,
          161,
          179,
          178,
          137,
          178,
          162,
          157,
          123,
          157,
          152,
          168,
          140,
          188,
          152,
          125,
          160,
          170,
          165,
          148,
          151,
          142,
          180,
          148,
          143,
          182,
          172,
          180,
          156,
          115,
          160,
          149,
          151,
          146,
          175,
          172,
          158,
          186,
          185,
          174,
          159,
          130,
          156,
          190,
          132,
          165,
          182,
          143,
          175,
          170,
          163,
          147,
          154,
          202,
          186,
          165,
          161,
          166,
          164,
          184,
          154,
          179,
          170,
          160,
          178,
          122,
          160,
          151,
          156,
          158,
          122,
          175,
          168,
          169,
          159,
          138,
          111,
          157,
          147,
          162,
          173,
          178,
          145,
          179,
          194,
          163,
          115,
          131,
          152,
          162,
          159,
          154,
          173,
          133,
          161,
          155,
          170,
          168,
          162,
          172,
          152,
          122,
          182,
          172,
          167,
          179,
          192,
          143,
          172,
          169,
          121,
          163,
          162,
          162,
          153,
          163,
          163,
          96,
          140,
          126,
          105,
          157,
          181,
          173,
          142,
          116,
          143,
          149,
          171,
          169,
          150,
          138,
          125,
          155,
          152,
          152,
          131,
          179
         ],
         "xaxis": "x3",
         "yaxis": "y3"
        },
        {
         "alignmentgroup": "True",
         "hovertemplate": "num=0.0<br>oldpeak=%{y}<extra></extra>",
         "legendgroup": "0.0",
         "marker": {
          "color": "#1F77B4",
          "symbol": "circle"
         },
         "name": "0.0",
         "offsetgroup": "0.0",
         "scalegroup": "y",
         "showlegend": false,
         "type": "violin",
         "xaxis": "x2",
         "y": [
          2.299999952316284,
          3.5,
          1.399999976158142,
          0.800000011920929,
          0.6000000238418579,
          0.4000000059604645,
          1.2999999523162842,
          0,
          0.5,
          1.600000023841858,
          1.2000000476837158,
          0.20000000298023224,
          0.6000000238418579,
          1.7999999523162842,
          1,
          1.600000023841858,
          0,
          2.5999999046325684,
          1.5,
          1.7999999523162842,
          0.5,
          0.4000000059604645,
          0,
          1,
          1.399999976158142,
          0.4000000059604645,
          1.600000023841858,
          0.6000000238418579,
          0.800000011920929,
          1.2000000476837158,
          0,
          0.4000000059604645,
          0,
          0.5,
          1.399999976158142,
          1.399999976158142,
          0,
          1.600000023841858,
          0.800000011920929,
          0.800000011920929,
          1.5,
          0.20000000298023224,
          3,
          0.4000000059604645,
          0,
          0.20000000298023224,
          0,
          0,
          0,
          0,
          0.5,
          0.4000000059604645,
          1.7999999523162842,
          0.6000000238418579,
          0,
          0.800000011920929,
          0,
          0,
          0,
          0,
          0,
          0,
          0,
          0,
          0,
          1.399999976158142,
          1.2000000476837158,
          0.6000000238418579,
          0,
          0,
          0.4000000059604645,
          0,
          0,
          0,
          0.20000000298023224,
          1.399999976158142,
          2.4000000953674316,
          0,
          0,
          0.6000000238418579,
          0,
          0,
          0,
          1.2000000476837158,
          0.6000000238418579,
          1.600000023841858,
          1,
          0,
          1.600000023841858,
          1,
          0,
          0,
          0,
          0,
          0,
          0,
          1.2000000476837158,
          0.10000000149011612,
          1.899999976158142,
          0,
          0.800000011920929,
          4.199999809265137,
          0,
          0.800000011920929,
          0,
          1.5,
          0.10000000149011612,
          0.20000000298023224,
          1.100000023841858,
          0,
          0,
          0.20000000298023224,
          0.20000000298023224,
          0,
          0,
          0,
          2,
          1.899999976158142,
          0,
          0,
          2,
          0,
          0,
          0,
          0,
          0.699999988079071,
          0.10000000149011612,
          0,
          0.10000000149011612,
          0.20000000298023224,
          0,
          0,
          0,
          0,
          0,
          0,
          0,
          0,
          1.5,
          0.20000000298023224,
          0.6000000238418579,
          1.2000000476837158,
          0,
          0.30000001192092896,
          1.100000023841858,
          0,
          0.30000001192092896,
          0.8999999761581421,
          0,
          0,
          2.299999952316284,
          1.600000023841858,
          0.6000000238418579,
          0,
          0,
          0.6000000238418579,
          0
         ],
         "yaxis": "y2"
        },
        {
         "hovertemplate": "<b>OLS trendline</b><br>oldpeak = -0.00689243 * thalach + 1.69142<br>R<sup>2</sup>=0.028591<br><br>num=0.0<br>thalach=%{x}<br>oldpeak=%{y} <b>(trend)</b><extra></extra>",
         "legendgroup": "0.0",
         "marker": {
          "color": "#1F77B4",
          "symbol": "circle"
         },
         "mode": "lines",
         "name": "0.0",
         "showlegend": false,
         "type": "scatter",
         "x": [
          96,
          105,
          111,
          114,
          115,
          115,
          116,
          121,
          122,
          122,
          122,
          123,
          125,
          125,
          126,
          130,
          131,
          131,
          132,
          133,
          137,
          138,
          138,
          139,
          140,
          140,
          142,
          142,
          143,
          143,
          143,
          143,
          144,
          145,
          146,
          147,
          147,
          148,
          148,
          148,
          149,
          149,
          150,
          150,
          151,
          151,
          151,
          151,
          152,
          152,
          152,
          152,
          152,
          152,
          153,
          153,
          154,
          154,
          154,
          155,
          155,
          156,
          156,
          156,
          157,
          157,
          157,
          157,
          158,
          158,
          158,
          159,
          159,
          159,
          160,
          160,
          160,
          160,
          160,
          161,
          161,
          161,
          162,
          162,
          162,
          162,
          162,
          162,
          162,
          162,
          163,
          163,
          163,
          163,
          163,
          163,
          164,
          165,
          165,
          165,
          166,
          167,
          168,
          168,
          168,
          169,
          169,
          169,
          170,
          170,
          170,
          170,
          171,
          171,
          171,
          172,
          172,
          172,
          172,
          172,
          172,
          172,
          173,
          173,
          173,
          173,
          174,
          174,
          175,
          175,
          175,
          178,
          178,
          178,
          178,
          178,
          179,
          179,
          179,
          179,
          179,
          180,
          180,
          181,
          182,
          182,
          182,
          184,
          185,
          186,
          186,
          187,
          188,
          190,
          192,
          194,
          202
         ],
         "xaxis": "x",
         "y": [
          1.0297466997718783,
          0.9677148341034318,
          0.9263602569911342,
          0.9056829684349854,
          0.8987905389162691,
          0.8987905389162691,
          0.8918981093975529,
          0.8574359618039715,
          0.8505435322852553,
          0.8505435322852553,
          0.8505435322852553,
          0.843651102766539,
          0.8298662437291064,
          0.8298662437291064,
          0.8229738142103902,
          0.7954040961355251,
          0.7885116666168088,
          0.7885116666168088,
          0.7816192370980926,
          0.7747268075793763,
          0.7471570895045112,
          0.7402646599857949,
          0.7402646599857949,
          0.7333722304670787,
          0.7264798009483624,
          0.7264798009483624,
          0.7126949419109299,
          0.7126949419109299,
          0.7058025123922136,
          0.7058025123922136,
          0.7058025123922136,
          0.7058025123922136,
          0.6989100828734973,
          0.692017653354781,
          0.6851252238360648,
          0.6782327943173485,
          0.6782327943173485,
          0.6713403647986322,
          0.6713403647986322,
          0.6713403647986322,
          0.664447935279916,
          0.664447935279916,
          0.6575555057611997,
          0.6575555057611997,
          0.6506630762424834,
          0.6506630762424834,
          0.6506630762424834,
          0.6506630762424834,
          0.6437706467237672,
          0.6437706467237672,
          0.6437706467237672,
          0.6437706467237672,
          0.6437706467237672,
          0.6437706467237672,
          0.6368782172050509,
          0.6368782172050509,
          0.6299857876863346,
          0.6299857876863346,
          0.6299857876863346,
          0.6230933581676183,
          0.6230933581676183,
          0.6162009286489021,
          0.6162009286489021,
          0.6162009286489021,
          0.6093084991301858,
          0.6093084991301858,
          0.6093084991301858,
          0.6093084991301858,
          0.6024160696114695,
          0.6024160696114695,
          0.6024160696114695,
          0.5955236400927533,
          0.5955236400927533,
          0.5955236400927533,
          0.588631210574037,
          0.588631210574037,
          0.588631210574037,
          0.588631210574037,
          0.588631210574037,
          0.5817387810553207,
          0.5817387810553207,
          0.5817387810553207,
          0.5748463515366045,
          0.5748463515366045,
          0.5748463515366045,
          0.5748463515366045,
          0.5748463515366045,
          0.5748463515366045,
          0.5748463515366045,
          0.5748463515366045,
          0.5679539220178882,
          0.5679539220178882,
          0.5679539220178882,
          0.5679539220178882,
          0.5679539220178882,
          0.5679539220178882,
          0.5610614924991719,
          0.5541690629804557,
          0.5541690629804557,
          0.5541690629804557,
          0.5472766334617394,
          0.5403842039430231,
          0.5334917744243068,
          0.5334917744243068,
          0.5334917744243068,
          0.5265993449055906,
          0.5265993449055906,
          0.5265993449055906,
          0.5197069153868743,
          0.5197069153868743,
          0.5197069153868743,
          0.5197069153868743,
          0.512814485868158,
          0.512814485868158,
          0.512814485868158,
          0.5059220563494418,
          0.5059220563494418,
          0.5059220563494418,
          0.5059220563494418,
          0.5059220563494418,
          0.5059220563494418,
          0.5059220563494418,
          0.4990296268307255,
          0.4990296268307255,
          0.4990296268307255,
          0.4990296268307255,
          0.4921371973120092,
          0.4921371973120092,
          0.48524476779329295,
          0.48524476779329295,
          0.48524476779329295,
          0.46456747923714414,
          0.46456747923714414,
          0.46456747923714414,
          0.46456747923714414,
          0.46456747923714414,
          0.4576750497184279,
          0.4576750497184279,
          0.4576750497184279,
          0.4576750497184279,
          0.4576750497184279,
          0.4507826201997116,
          0.4507826201997116,
          0.44389019068099533,
          0.43699776116227906,
          0.43699776116227906,
          0.43699776116227906,
          0.4232129021248465,
          0.41632047260613025,
          0.409428043087414,
          0.409428043087414,
          0.4025356135686977,
          0.39564318404998144,
          0.3818583250125489,
          0.36807346597511637,
          0.3542886069376838,
          0.29914917078795367
         ],
         "yaxis": "y"
        },
        {
         "hovertemplate": "num=2.0<br>thalach=%{x}<br>oldpeak=%{y}<extra></extra>",
         "legendgroup": "2.0",
         "marker": {
          "color": "#FF7F0E",
          "symbol": "circle"
         },
         "mode": "markers",
         "name": "2.0",
         "orientation": "v",
         "showlegend": true,
         "type": "scatter",
         "x": [
          108,
          147,
          142,
          160,
          153,
          142,
          113,
          142,
          140,
          142,
          162,
          140,
          136,
          97,
          127,
          170,
          150,
          120,
          146,
          106,
          132,
          117,
          103,
          145,
          71,
          156,
          125,
          156,
          134,
          120,
          143
         ],
         "xaxis": "x",
         "y": [
          1.5,
          1.399999976158142,
          0.6000000238418579,
          1.399999976158142,
          0,
          1.2000000476837158,
          1.399999976158142,
          2.799999952316284,
          3.4000000953674316,
          1.2000000476837158,
          0,
          3.5999999046325684,
          3,
          1.2000000476837158,
          2.799999952316284,
          1.2000000476837158,
          1.899999976158142,
          0,
          2,
          1.899999976158142,
          0.10000000149011612,
          3.4000000953674316,
          1.600000023841858,
          2.5999999046325684,
          1,
          0.10000000149011612,
          1.7999999523162842,
          1,
          2.200000047683716,
          1.7999999523162842,
          3
         ],
         "yaxis": "y"
        },
        {
         "alignmentgroup": "True",
         "hovertemplate": "num=2.0<br>thalach=%{x}<extra></extra>",
         "legendgroup": "2.0",
         "marker": {
          "color": "#FF7F0E",
          "symbol": "circle"
         },
         "name": "2.0",
         "notched": true,
         "offsetgroup": "2.0",
         "showlegend": false,
         "type": "box",
         "x": [
          108,
          147,
          142,
          160,
          153,
          142,
          113,
          142,
          140,
          142,
          162,
          140,
          136,
          97,
          127,
          170,
          150,
          120,
          146,
          106,
          132,
          117,
          103,
          145,
          71,
          156,
          125,
          156,
          134,
          120,
          143
         ],
         "xaxis": "x3",
         "yaxis": "y3"
        },
        {
         "alignmentgroup": "True",
         "hovertemplate": "num=2.0<br>oldpeak=%{y}<extra></extra>",
         "legendgroup": "2.0",
         "marker": {
          "color": "#FF7F0E",
          "symbol": "circle"
         },
         "name": "2.0",
         "offsetgroup": "2.0",
         "scalegroup": "y",
         "showlegend": false,
         "type": "violin",
         "xaxis": "x2",
         "y": [
          1.5,
          1.399999976158142,
          0.6000000238418579,
          1.399999976158142,
          0,
          1.2000000476837158,
          1.399999976158142,
          2.799999952316284,
          3.4000000953674316,
          1.2000000476837158,
          0,
          3.5999999046325684,
          3,
          1.2000000476837158,
          2.799999952316284,
          1.2000000476837158,
          1.899999976158142,
          0,
          2,
          1.899999976158142,
          0.10000000149011612,
          3.4000000953674316,
          1.600000023841858,
          2.5999999046325684,
          1,
          0.10000000149011612,
          1.7999999523162842,
          1,
          2.200000047683716,
          1.7999999523162842,
          3
         ],
         "yaxis": "y2"
        },
        {
         "hovertemplate": "<b>OLS trendline</b><br>oldpeak = -0.00396922 * thalach + 2.17911<br>R<sup>2</sup>=0.006647<br><br>num=2.0<br>thalach=%{x}<br>oldpeak=%{y} <b>(trend)</b><extra></extra>",
         "legendgroup": "2.0",
         "marker": {
          "color": "#FF7F0E",
          "symbol": "circle"
         },
         "mode": "lines",
         "name": "2.0",
         "showlegend": false,
         "type": "scatter",
         "x": [
          71,
          97,
          103,
          106,
          108,
          113,
          117,
          120,
          120,
          125,
          127,
          132,
          134,
          136,
          140,
          140,
          142,
          142,
          142,
          142,
          143,
          145,
          146,
          147,
          150,
          153,
          156,
          156,
          160,
          162,
          170
         ],
         "xaxis": "x",
         "y": [
          1.8972958546403773,
          1.7940960298551167,
          1.7702806856739028,
          1.758373013583296,
          1.7504345655228912,
          1.7305884453718796,
          1.7147115492510703,
          1.7028038771604634,
          1.7028038771604634,
          1.6829577570094518,
          1.675019308949047,
          1.6551731887980354,
          1.6472347407376309,
          1.6392962926772263,
          1.6234193965564168,
          1.6234193965564168,
          1.6154809484960122,
          1.6154809484960122,
          1.6154809484960122,
          1.6154809484960122,
          1.61151172446581,
          1.6035732764054051,
          1.5996040523752029,
          1.5956348283450006,
          1.5837271562543935,
          1.5718194841637865,
          1.5599118120731796,
          1.5599118120731796,
          1.5440349159523703,
          1.5360964678919657,
          1.504342675650347
         ],
         "yaxis": "y"
        },
        {
         "hovertemplate": "num=1.0<br>thalach=%{x}<br>oldpeak=%{y}<extra></extra>",
         "legendgroup": "1.0",
         "marker": {
          "color": "#2CA02C",
          "symbol": "circle"
         },
         "mode": "markers",
         "name": "1.0",
         "orientation": "v",
         "showlegend": true,
         "type": "scatter",
         "x": [
          129,
          155,
          168,
          160,
          158,
          112,
          169,
          144,
          109,
          163,
          158,
          131,
          155,
          147,
          99,
          158,
          177,
          141,
          161,
          150,
          146,
          144,
          174,
          130,
          159,
          131,
          152,
          109,
          173,
          171,
          156,
          143,
          88,
          105,
          161,
          195,
          143,
          125,
          154,
          160,
          169,
          126,
          144,
          118,
          105,
          141,
          181,
          138,
          162,
          164
         ],
         "xaxis": "x",
         "y": [
          2.5999999046325684,
          3.0999999046325684,
          1,
          1.7999999523162842,
          0,
          0.6000000238418579,
          0,
          1.399999976158142,
          2.200000047683716,
          0.6000000238418579,
          0,
          2.200000047683716,
          3,
          3.5999999046325684,
          1.7999999523162842,
          0.6000000238418579,
          0,
          2.799999952316284,
          0,
          0.4000000059604645,
          1,
          1.2000000476837158,
          1.399999976158142,
          1.600000023841858,
          0.20000000298023224,
          1.7999999523162842,
          0,
          2.4000000953674316,
          1.600000023841858,
          0,
          0,
          0,
          1.2000000476837158,
          2.0999999046325684,
          0,
          0,
          0.10000000149011612,
          0,
          1.399999976158142,
          0,
          1.7999999523162842,
          0.800000011920929,
          0.800000011920929,
          1,
          2,
          0.30000001192092896,
          0,
          1.899999976158142,
          0.800000011920929,
          0
         ],
         "yaxis": "y"
        },
        {
         "alignmentgroup": "True",
         "hovertemplate": "num=1.0<br>thalach=%{x}<extra></extra>",
         "legendgroup": "1.0",
         "marker": {
          "color": "#2CA02C",
          "symbol": "circle"
         },
         "name": "1.0",
         "notched": true,
         "offsetgroup": "1.0",
         "showlegend": false,
         "type": "box",
         "x": [
          129,
          155,
          168,
          160,
          158,
          112,
          169,
          144,
          109,
          163,
          158,
          131,
          155,
          147,
          99,
          158,
          177,
          141,
          161,
          150,
          146,
          144,
          174,
          130,
          159,
          131,
          152,
          109,
          173,
          171,
          156,
          143,
          88,
          105,
          161,
          195,
          143,
          125,
          154,
          160,
          169,
          126,
          144,
          118,
          105,
          141,
          181,
          138,
          162,
          164
         ],
         "xaxis": "x3",
         "yaxis": "y3"
        },
        {
         "alignmentgroup": "True",
         "hovertemplate": "num=1.0<br>oldpeak=%{y}<extra></extra>",
         "legendgroup": "1.0",
         "marker": {
          "color": "#2CA02C",
          "symbol": "circle"
         },
         "name": "1.0",
         "offsetgroup": "1.0",
         "scalegroup": "y",
         "showlegend": false,
         "type": "violin",
         "xaxis": "x2",
         "y": [
          2.5999999046325684,
          3.0999999046325684,
          1,
          1.7999999523162842,
          0,
          0.6000000238418579,
          0,
          1.399999976158142,
          2.200000047683716,
          0.6000000238418579,
          0,
          2.200000047683716,
          3,
          3.5999999046325684,
          1.7999999523162842,
          0.6000000238418579,
          0,
          2.799999952316284,
          0,
          0.4000000059604645,
          1,
          1.2000000476837158,
          1.399999976158142,
          1.600000023841858,
          0.20000000298023224,
          1.7999999523162842,
          0,
          2.4000000953674316,
          1.600000023841858,
          0,
          0,
          0,
          1.2000000476837158,
          2.0999999046325684,
          0,
          0,
          0.10000000149011612,
          0,
          1.399999976158142,
          0,
          1.7999999523162842,
          0.800000011920929,
          0.800000011920929,
          1,
          2,
          0.30000001192092896,
          0,
          1.899999976158142,
          0.800000011920929,
          0
         ],
         "yaxis": "y2"
        },
        {
         "hovertemplate": "<b>OLS trendline</b><br>oldpeak = -0.0173675 * thalach + 3.60147<br>R<sup>2</sup>=0.158956<br><br>num=1.0<br>thalach=%{x}<br>oldpeak=%{y} <b>(trend)</b><extra></extra>",
         "legendgroup": "1.0",
         "marker": {
          "color": "#2CA02C",
          "symbol": "circle"
         },
         "mode": "lines",
         "name": "1.0",
         "showlegend": false,
         "type": "scatter",
         "x": [
          88,
          99,
          105,
          105,
          109,
          109,
          112,
          118,
          125,
          126,
          129,
          130,
          131,
          131,
          138,
          141,
          141,
          143,
          143,
          144,
          144,
          144,
          146,
          147,
          150,
          152,
          154,
          155,
          155,
          156,
          158,
          158,
          158,
          159,
          160,
          160,
          161,
          161,
          162,
          163,
          164,
          168,
          169,
          169,
          171,
          173,
          174,
          177,
          181,
          195
         ],
         "xaxis": "x",
         "y": [
          2.0731348366519518,
          1.8820925271608147,
          1.77788763107474,
          1.77788763107474,
          1.7084177003506904,
          1.7084177003506904,
          1.656315252307653,
          1.5521103562215783,
          1.4305379774544913,
          1.4131704947734787,
          1.3610680467304412,
          1.343700564049429,
          1.3263330813684164,
          1.3263330813684164,
          1.2047607026013294,
          1.152658254558292,
          1.152658254558292,
          1.1179232891962672,
          1.1179232891962672,
          1.1005558065152545,
          1.1005558065152545,
          1.1005558065152545,
          1.0658208411532297,
          1.0484533584722175,
          0.9963509104291801,
          0.9616159450671553,
          0.9268809797051305,
          0.9095134970241179,
          0.9095134970241179,
          0.8921460143431053,
          0.8574110489810804,
          0.8574110489810804,
          0.8574110489810804,
          0.8400435663000683,
          0.8226760836190556,
          0.8226760836190556,
          0.805308600938043,
          0.805308600938043,
          0.7879411182570308,
          0.7705736355760182,
          0.753206152895006,
          0.683736222170956,
          0.6663687394899438,
          0.6663687394899438,
          0.6316337741279185,
          0.5968988087658937,
          0.5795313260848816,
          0.5274288780418441,
          0.4579589473177945,
          0.21481418978362
         ],
         "yaxis": "y"
        },
        {
         "hovertemplate": "num=3.0<br>thalach=%{x}<br>oldpeak=%{y}<extra></extra>",
         "legendgroup": "3.0",
         "marker": {
          "color": "#D62728",
          "symbol": "circle"
         },
         "mode": "markers",
         "name": "3.0",
         "orientation": "v",
         "showlegend": true,
         "type": "scatter",
         "x": [
          160,
          173,
          114,
          120,
          132,
          163,
          111,
          150,
          145,
          157,
          139,
          140,
          132,
          150,
          111,
          133,
          126,
          103,
          96,
          112,
          166,
          122,
          125,
          147,
          130,
          126,
          165,
          95,
          108,
          116,
          168,
          152
         ],
         "xaxis": "x",
         "y": [
          3.5999999046325684,
          3.200000047683716,
          2,
          2.5,
          1.2000000476837158,
          0.20000000298023224,
          0.800000011920929,
          1.600000023841858,
          6.199999809265137,
          2.5999999046325684,
          2,
          1.2000000476837158,
          1.7999999523162842,
          0,
          5.599999904632568,
          4,
          2.799999952316284,
          1.399999976158142,
          2.200000047683716,
          2.9000000953674316,
          0.5,
          4.199999809265137,
          0.8999999761581421,
          0,
          3,
          0.8999999761581421,
          1,
          2,
          0,
          3.200000047683716,
          1,
          0
         ],
         "yaxis": "y"
        },
        {
         "alignmentgroup": "True",
         "hovertemplate": "num=3.0<br>thalach=%{x}<extra></extra>",
         "legendgroup": "3.0",
         "marker": {
          "color": "#D62728",
          "symbol": "circle"
         },
         "name": "3.0",
         "notched": true,
         "offsetgroup": "3.0",
         "showlegend": false,
         "type": "box",
         "x": [
          160,
          173,
          114,
          120,
          132,
          163,
          111,
          150,
          145,
          157,
          139,
          140,
          132,
          150,
          111,
          133,
          126,
          103,
          96,
          112,
          166,
          122,
          125,
          147,
          130,
          126,
          165,
          95,
          108,
          116,
          168,
          152
         ],
         "xaxis": "x3",
         "yaxis": "y3"
        },
        {
         "alignmentgroup": "True",
         "hovertemplate": "num=3.0<br>oldpeak=%{y}<extra></extra>",
         "legendgroup": "3.0",
         "marker": {
          "color": "#D62728",
          "symbol": "circle"
         },
         "name": "3.0",
         "offsetgroup": "3.0",
         "scalegroup": "y",
         "showlegend": false,
         "type": "violin",
         "xaxis": "x2",
         "y": [
          3.5999999046325684,
          3.200000047683716,
          2,
          2.5,
          1.2000000476837158,
          0.20000000298023224,
          0.800000011920929,
          1.600000023841858,
          6.199999809265137,
          2.5999999046325684,
          2,
          1.2000000476837158,
          1.7999999523162842,
          0,
          5.599999904632568,
          4,
          2.799999952316284,
          1.399999976158142,
          2.200000047683716,
          2.9000000953674316,
          0.5,
          4.199999809265137,
          0.8999999761581421,
          0,
          3,
          0.8999999761581421,
          1,
          2,
          0,
          3.200000047683716,
          1,
          0
         ],
         "yaxis": "y2"
        },
        {
         "hovertemplate": "<b>OLS trendline</b><br>oldpeak = -0.011781 * thalach + 3.59391<br>R<sup>2</sup>=0.027587<br><br>num=3.0<br>thalach=%{x}<br>oldpeak=%{y} <b>(trend)</b><extra></extra>",
         "legendgroup": "3.0",
         "marker": {
          "color": "#D62728",
          "symbol": "circle"
         },
         "mode": "lines",
         "name": "3.0",
         "showlegend": false,
         "type": "scatter",
         "x": [
          95,
          96,
          103,
          108,
          111,
          111,
          112,
          114,
          116,
          120,
          122,
          125,
          126,
          126,
          130,
          132,
          132,
          133,
          139,
          140,
          145,
          147,
          150,
          150,
          152,
          157,
          160,
          163,
          165,
          166,
          168,
          173
         ],
         "xaxis": "x",
         "y": [
          2.474714684317742,
          2.4629337137001768,
          2.380466919377221,
          2.3215620662893954,
          2.2862191544367,
          2.2862191544367,
          2.274438183819135,
          2.2508762425840048,
          2.2273143013488745,
          2.180190418878614,
          2.1566284776434834,
          2.1212855657907883,
          2.109504595173223,
          2.109504595173223,
          2.0623807127029625,
          2.0388187714678327,
          2.0388187714678327,
          2.0270378008502674,
          1.9563519771448765,
          1.9445710065273114,
          1.8856661534394858,
          1.8621042122043556,
          1.82676130035166,
          1.82676130035166,
          1.8031993591165298,
          1.7442945060287043,
          1.708951594176009,
          1.6736086823233136,
          1.6500467410881832,
          1.638265770470618,
          1.6147038292354878,
          1.555798976147662
         ],
         "yaxis": "y"
        },
        {
         "hovertemplate": "num=4.0<br>thalach=%{x}<br>oldpeak=%{y}<extra></extra>",
         "legendgroup": "4.0",
         "marker": {
          "color": "#9467BD",
          "symbol": "circle"
         },
         "mode": "markers",
         "name": "4.0",
         "orientation": "v",
         "showlegend": true,
         "type": "scatter",
         "x": [
          132,
          114,
          165,
          128,
          154,
          125,
          124,
          145,
          162,
          132,
          182,
          125
         ],
         "xaxis": "x",
         "y": [
          2.4000000953674316,
          1,
          2.5,
          2.5999999046325684,
          4,
          2.5999999046325684,
          1,
          0.800000011920929,
          0,
          2,
          3.799999952316284,
          3.5999999046325684
         ],
         "yaxis": "y"
        },
        {
         "alignmentgroup": "True",
         "hovertemplate": "num=4.0<br>thalach=%{x}<extra></extra>",
         "legendgroup": "4.0",
         "marker": {
          "color": "#9467BD",
          "symbol": "circle"
         },
         "name": "4.0",
         "notched": true,
         "offsetgroup": "4.0",
         "showlegend": false,
         "type": "box",
         "x": [
          132,
          114,
          165,
          128,
          154,
          125,
          124,
          145,
          162,
          132,
          182,
          125
         ],
         "xaxis": "x3",
         "yaxis": "y3"
        },
        {
         "alignmentgroup": "True",
         "hovertemplate": "num=4.0<br>oldpeak=%{y}<extra></extra>",
         "legendgroup": "4.0",
         "marker": {
          "color": "#9467BD",
          "symbol": "circle"
         },
         "name": "4.0",
         "offsetgroup": "4.0",
         "scalegroup": "y",
         "showlegend": false,
         "type": "violin",
         "xaxis": "x2",
         "y": [
          2.4000000953674316,
          1,
          2.5,
          2.5999999046325684,
          4,
          2.5999999046325684,
          1,
          0.800000011920929,
          0,
          2,
          3.799999952316284,
          3.5999999046325684
         ],
         "yaxis": "y2"
        },
        {
         "hovertemplate": "<b>OLS trendline</b><br>oldpeak = 0.0133188 * thalach + 0.318154<br>R<sup>2</sup>=0.046924<br><br>num=4.0<br>thalach=%{x}<br>oldpeak=%{y} <b>(trend)</b><extra></extra>",
         "legendgroup": "4.0",
         "marker": {
          "color": "#9467BD",
          "symbol": "circle"
         },
         "mode": "lines",
         "name": "4.0",
         "showlegend": false,
         "type": "scatter",
         "x": [
          114,
          124,
          125,
          125,
          128,
          132,
          132,
          145,
          154,
          162,
          165,
          182
         ],
         "xaxis": "x",
         "y": [
          1.8364984267232864,
          1.9696865096240026,
          1.983005317914074,
          1.983005317914074,
          2.0229617427842888,
          2.0762369759445756,
          2.0762369759445756,
          2.2493814837155064,
          2.369250758326151,
          2.4758012246467236,
          2.5157576495169387,
          2.742177390448156
         ],
         "yaxis": "y"
        }
       ],
       "layout": {
        "legend": {
         "title": {
          "text": "num"
         },
         "tracegroupgap": 0
        },
        "margin": {
         "t": 60
        },
        "template": {
         "data": {
          "bar": [
           {
            "error_x": {
             "color": "rgb(36,36,36)"
            },
            "error_y": {
             "color": "rgb(36,36,36)"
            },
            "marker": {
             "line": {
              "color": "white",
              "width": 0.5
             },
             "pattern": {
              "fillmode": "overlay",
              "size": 10,
              "solidity": 0.2
             }
            },
            "type": "bar"
           }
          ],
          "barpolar": [
           {
            "marker": {
             "line": {
              "color": "white",
              "width": 0.5
             },
             "pattern": {
              "fillmode": "overlay",
              "size": 10,
              "solidity": 0.2
             }
            },
            "type": "barpolar"
           }
          ],
          "carpet": [
           {
            "aaxis": {
             "endlinecolor": "rgb(36,36,36)",
             "gridcolor": "white",
             "linecolor": "white",
             "minorgridcolor": "white",
             "startlinecolor": "rgb(36,36,36)"
            },
            "baxis": {
             "endlinecolor": "rgb(36,36,36)",
             "gridcolor": "white",
             "linecolor": "white",
             "minorgridcolor": "white",
             "startlinecolor": "rgb(36,36,36)"
            },
            "type": "carpet"
           }
          ],
          "choropleth": [
           {
            "colorbar": {
             "outlinewidth": 1,
             "tickcolor": "rgb(36,36,36)",
             "ticks": "outside"
            },
            "type": "choropleth"
           }
          ],
          "contour": [
           {
            "colorbar": {
             "outlinewidth": 1,
             "tickcolor": "rgb(36,36,36)",
             "ticks": "outside"
            },
            "colorscale": [
             [
              0,
              "#440154"
             ],
             [
              0.1111111111111111,
              "#482878"
             ],
             [
              0.2222222222222222,
              "#3e4989"
             ],
             [
              0.3333333333333333,
              "#31688e"
             ],
             [
              0.4444444444444444,
              "#26828e"
             ],
             [
              0.5555555555555556,
              "#1f9e89"
             ],
             [
              0.6666666666666666,
              "#35b779"
             ],
             [
              0.7777777777777778,
              "#6ece58"
             ],
             [
              0.8888888888888888,
              "#b5de2b"
             ],
             [
              1,
              "#fde725"
             ]
            ],
            "type": "contour"
           }
          ],
          "contourcarpet": [
           {
            "colorbar": {
             "outlinewidth": 1,
             "tickcolor": "rgb(36,36,36)",
             "ticks": "outside"
            },
            "type": "contourcarpet"
           }
          ],
          "heatmap": [
           {
            "colorbar": {
             "outlinewidth": 1,
             "tickcolor": "rgb(36,36,36)",
             "ticks": "outside"
            },
            "colorscale": [
             [
              0,
              "#440154"
             ],
             [
              0.1111111111111111,
              "#482878"
             ],
             [
              0.2222222222222222,
              "#3e4989"
             ],
             [
              0.3333333333333333,
              "#31688e"
             ],
             [
              0.4444444444444444,
              "#26828e"
             ],
             [
              0.5555555555555556,
              "#1f9e89"
             ],
             [
              0.6666666666666666,
              "#35b779"
             ],
             [
              0.7777777777777778,
              "#6ece58"
             ],
             [
              0.8888888888888888,
              "#b5de2b"
             ],
             [
              1,
              "#fde725"
             ]
            ],
            "type": "heatmap"
           }
          ],
          "heatmapgl": [
           {
            "colorbar": {
             "outlinewidth": 1,
             "tickcolor": "rgb(36,36,36)",
             "ticks": "outside"
            },
            "colorscale": [
             [
              0,
              "#440154"
             ],
             [
              0.1111111111111111,
              "#482878"
             ],
             [
              0.2222222222222222,
              "#3e4989"
             ],
             [
              0.3333333333333333,
              "#31688e"
             ],
             [
              0.4444444444444444,
              "#26828e"
             ],
             [
              0.5555555555555556,
              "#1f9e89"
             ],
             [
              0.6666666666666666,
              "#35b779"
             ],
             [
              0.7777777777777778,
              "#6ece58"
             ],
             [
              0.8888888888888888,
              "#b5de2b"
             ],
             [
              1,
              "#fde725"
             ]
            ],
            "type": "heatmapgl"
           }
          ],
          "histogram": [
           {
            "marker": {
             "line": {
              "color": "white",
              "width": 0.6
             }
            },
            "type": "histogram"
           }
          ],
          "histogram2d": [
           {
            "colorbar": {
             "outlinewidth": 1,
             "tickcolor": "rgb(36,36,36)",
             "ticks": "outside"
            },
            "colorscale": [
             [
              0,
              "#440154"
             ],
             [
              0.1111111111111111,
              "#482878"
             ],
             [
              0.2222222222222222,
              "#3e4989"
             ],
             [
              0.3333333333333333,
              "#31688e"
             ],
             [
              0.4444444444444444,
              "#26828e"
             ],
             [
              0.5555555555555556,
              "#1f9e89"
             ],
             [
              0.6666666666666666,
              "#35b779"
             ],
             [
              0.7777777777777778,
              "#6ece58"
             ],
             [
              0.8888888888888888,
              "#b5de2b"
             ],
             [
              1,
              "#fde725"
             ]
            ],
            "type": "histogram2d"
           }
          ],
          "histogram2dcontour": [
           {
            "colorbar": {
             "outlinewidth": 1,
             "tickcolor": "rgb(36,36,36)",
             "ticks": "outside"
            },
            "colorscale": [
             [
              0,
              "#440154"
             ],
             [
              0.1111111111111111,
              "#482878"
             ],
             [
              0.2222222222222222,
              "#3e4989"
             ],
             [
              0.3333333333333333,
              "#31688e"
             ],
             [
              0.4444444444444444,
              "#26828e"
             ],
             [
              0.5555555555555556,
              "#1f9e89"
             ],
             [
              0.6666666666666666,
              "#35b779"
             ],
             [
              0.7777777777777778,
              "#6ece58"
             ],
             [
              0.8888888888888888,
              "#b5de2b"
             ],
             [
              1,
              "#fde725"
             ]
            ],
            "type": "histogram2dcontour"
           }
          ],
          "mesh3d": [
           {
            "colorbar": {
             "outlinewidth": 1,
             "tickcolor": "rgb(36,36,36)",
             "ticks": "outside"
            },
            "type": "mesh3d"
           }
          ],
          "parcoords": [
           {
            "line": {
             "colorbar": {
              "outlinewidth": 1,
              "tickcolor": "rgb(36,36,36)",
              "ticks": "outside"
             }
            },
            "type": "parcoords"
           }
          ],
          "pie": [
           {
            "automargin": true,
            "type": "pie"
           }
          ],
          "scatter": [
           {
            "fillpattern": {
             "fillmode": "overlay",
             "size": 10,
             "solidity": 0.2
            },
            "type": "scatter"
           }
          ],
          "scatter3d": [
           {
            "line": {
             "colorbar": {
              "outlinewidth": 1,
              "tickcolor": "rgb(36,36,36)",
              "ticks": "outside"
             }
            },
            "marker": {
             "colorbar": {
              "outlinewidth": 1,
              "tickcolor": "rgb(36,36,36)",
              "ticks": "outside"
             }
            },
            "type": "scatter3d"
           }
          ],
          "scattercarpet": [
           {
            "marker": {
             "colorbar": {
              "outlinewidth": 1,
              "tickcolor": "rgb(36,36,36)",
              "ticks": "outside"
             }
            },
            "type": "scattercarpet"
           }
          ],
          "scattergeo": [
           {
            "marker": {
             "colorbar": {
              "outlinewidth": 1,
              "tickcolor": "rgb(36,36,36)",
              "ticks": "outside"
             }
            },
            "type": "scattergeo"
           }
          ],
          "scattergl": [
           {
            "marker": {
             "colorbar": {
              "outlinewidth": 1,
              "tickcolor": "rgb(36,36,36)",
              "ticks": "outside"
             }
            },
            "type": "scattergl"
           }
          ],
          "scattermapbox": [
           {
            "marker": {
             "colorbar": {
              "outlinewidth": 1,
              "tickcolor": "rgb(36,36,36)",
              "ticks": "outside"
             }
            },
            "type": "scattermapbox"
           }
          ],
          "scatterpolar": [
           {
            "marker": {
             "colorbar": {
              "outlinewidth": 1,
              "tickcolor": "rgb(36,36,36)",
              "ticks": "outside"
             }
            },
            "type": "scatterpolar"
           }
          ],
          "scatterpolargl": [
           {
            "marker": {
             "colorbar": {
              "outlinewidth": 1,
              "tickcolor": "rgb(36,36,36)",
              "ticks": "outside"
             }
            },
            "type": "scatterpolargl"
           }
          ],
          "scatterternary": [
           {
            "marker": {
             "colorbar": {
              "outlinewidth": 1,
              "tickcolor": "rgb(36,36,36)",
              "ticks": "outside"
             }
            },
            "type": "scatterternary"
           }
          ],
          "surface": [
           {
            "colorbar": {
             "outlinewidth": 1,
             "tickcolor": "rgb(36,36,36)",
             "ticks": "outside"
            },
            "colorscale": [
             [
              0,
              "#440154"
             ],
             [
              0.1111111111111111,
              "#482878"
             ],
             [
              0.2222222222222222,
              "#3e4989"
             ],
             [
              0.3333333333333333,
              "#31688e"
             ],
             [
              0.4444444444444444,
              "#26828e"
             ],
             [
              0.5555555555555556,
              "#1f9e89"
             ],
             [
              0.6666666666666666,
              "#35b779"
             ],
             [
              0.7777777777777778,
              "#6ece58"
             ],
             [
              0.8888888888888888,
              "#b5de2b"
             ],
             [
              1,
              "#fde725"
             ]
            ],
            "type": "surface"
           }
          ],
          "table": [
           {
            "cells": {
             "fill": {
              "color": "rgb(237,237,237)"
             },
             "line": {
              "color": "white"
             }
            },
            "header": {
             "fill": {
              "color": "rgb(217,217,217)"
             },
             "line": {
              "color": "white"
             }
            },
            "type": "table"
           }
          ]
         },
         "layout": {
          "annotationdefaults": {
           "arrowhead": 0,
           "arrowwidth": 1
          },
          "autotypenumbers": "strict",
          "coloraxis": {
           "colorbar": {
            "outlinewidth": 1,
            "tickcolor": "rgb(36,36,36)",
            "ticks": "outside"
           }
          },
          "colorscale": {
           "diverging": [
            [
             0,
             "rgb(103,0,31)"
            ],
            [
             0.1,
             "rgb(178,24,43)"
            ],
            [
             0.2,
             "rgb(214,96,77)"
            ],
            [
             0.3,
             "rgb(244,165,130)"
            ],
            [
             0.4,
             "rgb(253,219,199)"
            ],
            [
             0.5,
             "rgb(247,247,247)"
            ],
            [
             0.6,
             "rgb(209,229,240)"
            ],
            [
             0.7,
             "rgb(146,197,222)"
            ],
            [
             0.8,
             "rgb(67,147,195)"
            ],
            [
             0.9,
             "rgb(33,102,172)"
            ],
            [
             1,
             "rgb(5,48,97)"
            ]
           ],
           "sequential": [
            [
             0,
             "#440154"
            ],
            [
             0.1111111111111111,
             "#482878"
            ],
            [
             0.2222222222222222,
             "#3e4989"
            ],
            [
             0.3333333333333333,
             "#31688e"
            ],
            [
             0.4444444444444444,
             "#26828e"
            ],
            [
             0.5555555555555556,
             "#1f9e89"
            ],
            [
             0.6666666666666666,
             "#35b779"
            ],
            [
             0.7777777777777778,
             "#6ece58"
            ],
            [
             0.8888888888888888,
             "#b5de2b"
            ],
            [
             1,
             "#fde725"
            ]
           ],
           "sequentialminus": [
            [
             0,
             "#440154"
            ],
            [
             0.1111111111111111,
             "#482878"
            ],
            [
             0.2222222222222222,
             "#3e4989"
            ],
            [
             0.3333333333333333,
             "#31688e"
            ],
            [
             0.4444444444444444,
             "#26828e"
            ],
            [
             0.5555555555555556,
             "#1f9e89"
            ],
            [
             0.6666666666666666,
             "#35b779"
            ],
            [
             0.7777777777777778,
             "#6ece58"
            ],
            [
             0.8888888888888888,
             "#b5de2b"
            ],
            [
             1,
             "#fde725"
            ]
           ]
          },
          "colorway": [
           "#1F77B4",
           "#FF7F0E",
           "#2CA02C",
           "#D62728",
           "#9467BD",
           "#8C564B",
           "#E377C2",
           "#7F7F7F",
           "#BCBD22",
           "#17BECF"
          ],
          "font": {
           "color": "rgb(36,36,36)"
          },
          "geo": {
           "bgcolor": "white",
           "lakecolor": "white",
           "landcolor": "white",
           "showlakes": true,
           "showland": true,
           "subunitcolor": "white"
          },
          "hoverlabel": {
           "align": "left"
          },
          "hovermode": "closest",
          "mapbox": {
           "style": "light"
          },
          "paper_bgcolor": "white",
          "plot_bgcolor": "white",
          "polar": {
           "angularaxis": {
            "gridcolor": "rgb(232,232,232)",
            "linecolor": "rgb(36,36,36)",
            "showgrid": false,
            "showline": true,
            "ticks": "outside"
           },
           "bgcolor": "white",
           "radialaxis": {
            "gridcolor": "rgb(232,232,232)",
            "linecolor": "rgb(36,36,36)",
            "showgrid": false,
            "showline": true,
            "ticks": "outside"
           }
          },
          "scene": {
           "xaxis": {
            "backgroundcolor": "white",
            "gridcolor": "rgb(232,232,232)",
            "gridwidth": 2,
            "linecolor": "rgb(36,36,36)",
            "showbackground": true,
            "showgrid": false,
            "showline": true,
            "ticks": "outside",
            "zeroline": false,
            "zerolinecolor": "rgb(36,36,36)"
           },
           "yaxis": {
            "backgroundcolor": "white",
            "gridcolor": "rgb(232,232,232)",
            "gridwidth": 2,
            "linecolor": "rgb(36,36,36)",
            "showbackground": true,
            "showgrid": false,
            "showline": true,
            "ticks": "outside",
            "zeroline": false,
            "zerolinecolor": "rgb(36,36,36)"
           },
           "zaxis": {
            "backgroundcolor": "white",
            "gridcolor": "rgb(232,232,232)",
            "gridwidth": 2,
            "linecolor": "rgb(36,36,36)",
            "showbackground": true,
            "showgrid": false,
            "showline": true,
            "ticks": "outside",
            "zeroline": false,
            "zerolinecolor": "rgb(36,36,36)"
           }
          },
          "shapedefaults": {
           "fillcolor": "black",
           "line": {
            "width": 0
           },
           "opacity": 0.3
          },
          "ternary": {
           "aaxis": {
            "gridcolor": "rgb(232,232,232)",
            "linecolor": "rgb(36,36,36)",
            "showgrid": false,
            "showline": true,
            "ticks": "outside"
           },
           "baxis": {
            "gridcolor": "rgb(232,232,232)",
            "linecolor": "rgb(36,36,36)",
            "showgrid": false,
            "showline": true,
            "ticks": "outside"
           },
           "bgcolor": "white",
           "caxis": {
            "gridcolor": "rgb(232,232,232)",
            "linecolor": "rgb(36,36,36)",
            "showgrid": false,
            "showline": true,
            "ticks": "outside"
           }
          },
          "title": {
           "x": 0.05
          },
          "xaxis": {
           "automargin": true,
           "gridcolor": "rgb(232,232,232)",
           "linecolor": "rgb(36,36,36)",
           "showgrid": false,
           "showline": true,
           "ticks": "outside",
           "title": {
            "standoff": 15
           },
           "zeroline": false,
           "zerolinecolor": "rgb(36,36,36)"
          },
          "yaxis": {
           "automargin": true,
           "gridcolor": "rgb(232,232,232)",
           "linecolor": "rgb(36,36,36)",
           "showgrid": false,
           "showline": true,
           "ticks": "outside",
           "title": {
            "standoff": 15
           },
           "zeroline": false,
           "zerolinecolor": "rgb(36,36,36)"
          }
         }
        },
        "xaxis": {
         "anchor": "y",
         "domain": [
          0,
          0.7363
         ],
         "title": {
          "text": "thalach"
         }
        },
        "xaxis2": {
         "anchor": "y2",
         "domain": [
          0.7413,
          1
         ],
         "matches": "x2",
         "showline": false,
         "showticklabels": false,
         "ticks": ""
        },
        "xaxis3": {
         "anchor": "y3",
         "domain": [
          0,
          0.7363
         ],
         "matches": "x",
         "showticklabels": false
        },
        "xaxis4": {
         "anchor": "y4",
         "domain": [
          0.7413,
          1
         ],
         "matches": "x2",
         "showline": false,
         "showticklabels": false,
         "ticks": ""
        },
        "yaxis": {
         "anchor": "x",
         "domain": [
          0,
          0.7326
         ],
         "title": {
          "text": "oldpeak"
         }
        },
        "yaxis2": {
         "anchor": "x2",
         "domain": [
          0,
          0.7326
         ],
         "matches": "y",
         "showticklabels": false
        },
        "yaxis3": {
         "anchor": "x3",
         "domain": [
          0.7426,
          1
         ],
         "matches": "y3",
         "showline": false,
         "showticklabels": false,
         "ticks": ""
        },
        "yaxis4": {
         "anchor": "x4",
         "domain": [
          0.7426,
          1
         ],
         "matches": "y3",
         "showline": false,
         "showticklabels": false,
         "ticks": ""
        }
       }
      }
     },
     "metadata": {},
     "output_type": "display_data"
    },
    {
     "name": "stdout",
     "output_type": "stream",
     "text": [
      "                            OLS Regression Results                            \n",
      "==============================================================================\n",
      "Dep. Variable:                      y   R-squared:                       0.029\n",
      "Model:                            OLS   Adj. R-squared:                  0.022\n",
      "Method:                 Least Squares   F-statistic:                     4.562\n",
      "Date:                Wed, 12 Oct 2022   Prob (F-statistic):             0.0343\n",
      "Time:                        17:42:52   Log-Likelihood:                -183.05\n",
      "No. Observations:                 157   AIC:                             370.1\n",
      "Df Residuals:                     155   BIC:                             376.2\n",
      "Df Model:                           1                                         \n",
      "Covariance Type:            nonrobust                                         \n",
      "==============================================================================\n",
      "                 coef    std err          t      P>|t|      [0.025      0.975]\n",
      "------------------------------------------------------------------------------\n",
      "const          1.6914      0.514      3.293      0.001       0.677       2.706\n",
      "x1            -0.0069      0.003     -2.136      0.034      -0.013      -0.001\n",
      "==============================================================================\n",
      "Omnibus:                       56.928   Durbin-Watson:                   1.989\n",
      "Prob(Omnibus):                  0.000   Jarque-Bera (JB):              128.886\n",
      "Skew:                           1.593   Prob(JB):                     1.03e-28\n",
      "Kurtosis:                       6.092   Cond. No.                     1.31e+03\n",
      "==============================================================================\n",
      "\n",
      "Notes:\n",
      "[1] Standard Errors assume that the covariance matrix of the errors is correctly specified.\n",
      "[2] The condition number is large, 1.31e+03. This might indicate that there are\n",
      "strong multicollinearity or other numerical problems.\n"
     ]
    }
   ],
   "source": [
    "# I plotted for all (4 choose 2) features(\"age\",\"chol\",\"thalach\",\"oldpeak\") combination to see if I find anything interesting between any two features. I could not see anything in particular.\n",
    "import plotly.express as px\n",
    "fig = px.scatter(data, x=\"thalach\", y= \"oldpeak\", color=\"num\", marginal_y=\"violin\",\n",
    "           marginal_x=\"box\", trendline=\"ols\", template=\"simple_white\")\n",
    "fig.show()\n",
    "results = px.get_trendline_results(fig)\n",
    "results = results.iloc[0][\"px_fit_results\"].summary()\n",
    "print(results)"
   ]
  },
  {
   "cell_type": "code",
   "execution_count": 52,
   "metadata": {},
   "outputs": [
    {
     "data": {
      "image/png": "[encoded data removed]",
      "text/plain": [
       "<Figure size 720x576 with 2 Axes>"
      ]
     },
     "metadata": {},
     "output_type": "display_data"
    }
   ],
   "source": [
    "#Correlation matrix\n",
    "sns.heatmap(X_tt.corr(),annot=True,cmap='RdYlGn')\n",
    "fig=plt.gcf()\n",
    "fig.set_size_inches(10,8)\n",
    "plt.show()"
   ]
  },
  {
   "cell_type": "code",
   "execution_count": 53,
   "metadata": {},
   "outputs": [
    {
     "data": {
      "image/png": "[encoded data removed]",
      "text/plain": [
       "<Figure size 720x576 with 2 Axes>"
      ]
     },
     "metadata": {},
     "output_type": "display_data"
    }
   ],
   "source": [
    "#Correlation matrix (for all the features)\n",
    "X = data.drop(columns = [\"id\",\"num\"])\n",
    "sns.heatmap(X.corr(),annot=True,cmap='RdYlGn')\n",
    "fig=plt.gcf()\n",
    "fig.set_size_inches(10,8)\n",
    "plt.show()"
   ]
  },
  {
   "cell_type": "code",
   "execution_count": 54,
   "metadata": {},
   "outputs": [
    {
     "data": {
      "text/html": [
       "<div>\n",
       "<style scoped>\n",
       "    .dataframe tbody tr th:only-of-type {\n",
       "        vertical-align: middle;\n",
       "    }\n",
       "\n",
       "    .dataframe tbody tr th {\n",
       "        vertical-align: top;\n",
       "    }\n",
       "\n",
       "    .dataframe thead th {\n",
       "        text-align: right;\n",
       "    }\n",
       "</style>\n",
       "<table border=\"1\" class=\"dataframe\">\n",
       "  <thead>\n",
       "    <tr style=\"text-align: right;\">\n",
       "      <th></th>\n",
       "      <th>p-value</th>\n",
       "    </tr>\n",
       "  </thead>\n",
       "  <tbody>\n",
       "    <tr>\n",
       "      <th>age</th>\n",
       "      <td>1.266665e-04</td>\n",
       "    </tr>\n",
       "    <tr>\n",
       "      <th>sex</th>\n",
       "      <td>6.158434e-02</td>\n",
       "    </tr>\n",
       "    <tr>\n",
       "      <th>cp</th>\n",
       "      <td>7.142631e-03</td>\n",
       "    </tr>\n",
       "    <tr>\n",
       "      <th>trestbps</th>\n",
       "      <td>1.216646e-03</td>\n",
       "    </tr>\n",
       "    <tr>\n",
       "      <th>chol</th>\n",
       "      <td>2.433421e-15</td>\n",
       "    </tr>\n",
       "    <tr>\n",
       "      <th>fbs</th>\n",
       "      <td>3.763417e-01</td>\n",
       "    </tr>\n",
       "    <tr>\n",
       "      <th>restecg</th>\n",
       "      <td>9.383508e-03</td>\n",
       "    </tr>\n",
       "    <tr>\n",
       "      <th>thalach</th>\n",
       "      <td>1.253370e-39</td>\n",
       "    </tr>\n",
       "    <tr>\n",
       "      <th>exang</th>\n",
       "      <td>1.180013e-07</td>\n",
       "    </tr>\n",
       "    <tr>\n",
       "      <th>oldpeak</th>\n",
       "      <td>1.151822e-17</td>\n",
       "    </tr>\n",
       "    <tr>\n",
       "      <th>slope</th>\n",
       "      <td>5.227369e-02</td>\n",
       "    </tr>\n",
       "  </tbody>\n",
       "</table>\n",
       "</div>"
      ],
      "text/plain": [
       "               p-value\n",
       "age       1.266665e-04\n",
       "sex       6.158434e-02\n",
       "cp        7.142631e-03\n",
       "trestbps  1.216646e-03\n",
       "chol      2.433421e-15\n",
       "fbs       3.763417e-01\n",
       "restecg   9.383508e-03\n",
       "thalach   1.253370e-39\n",
       "exang     1.180013e-07\n",
       "oldpeak   1.151822e-17\n",
       "slope     5.227369e-02"
      ]
     },
     "execution_count": 54,
     "metadata": {},
     "output_type": "execute_result"
    }
   ],
   "source": [
    "from sklearn.feature_selection import chi2\n",
    "X_new = data[[\"age\",\"sex\",\"cp\",\"trestbps\",\"chol\",\"fbs\",\"restecg\",\"thalach\",\"exang\",\"oldpeak\",\"slope\"]] #removing CA and thal as they take negative values too.\n",
    "y = data[['num']]\n",
    "chi_scores = chi2(X_new,y)\n",
    "\n",
    "p_values = pd.Series(chi_scores[1],index = X_new.columns)\n",
    "p_values.sort_values(ascending = False , inplace = True)\n",
    "\n",
    "pd.DataFrame( chi_scores[1], X_new.columns, columns=['p-value'])"
   ]
  },
  {
   "cell_type": "markdown",
   "metadata": {},
   "source": [
    "We notice that the p_value of sex, fbs, and slope is greater that 0.05"
   ]
  },
  {
   "cell_type": "markdown",
   "metadata": {},
   "source": [
    "***\n",
    "## Section: 2.2 - Revise the dataset\n",
    "- Review the meanings of the attributes and consider removing redundant or (likely) irrelevant attributes, combining attributes, etc., to reduce the number of attributes.\n",
    "- (You may choose to use techniques such as those you used in Homework 1 to analyze the impacts of individual attributes on the CLASS attribute, but you need not do a “deep” analysis.)\n",
    "- Describe what you chose to do (and not do), and why.\n",
    "***"
   ]
  },
  {
   "cell_type": "code",
   "execution_count": 55,
   "metadata": {},
   "outputs": [
    {
     "name": "stdout",
     "output_type": "stream",
     "text": [
      "Duplicate Rows :\n"
     ]
    },
    {
     "data": {
      "text/plain": [
       "0"
      ]
     },
     "execution_count": 55,
     "metadata": {},
     "output_type": "execute_result"
    }
   ],
   "source": [
    "duplicate = data[data.duplicated(keep=\"first\" )]\n",
    " \n",
    "print(\"Duplicate Rows :\")\n",
    " \n",
    "# Print the resultant Dataframe\n",
    "len(duplicate)"
   ]
  },
  {
   "cell_type": "markdown",
   "metadata": {},
   "source": [
    "There aren't any duplicates in this file, so we do not have to remove any row."
   ]
  },
  {
   "cell_type": "code",
   "execution_count": 56,
   "metadata": {},
   "outputs": [
    {
     "data": {
      "text/html": [
       "<div>\n",
       "<style scoped>\n",
       "    .dataframe tbody tr th:only-of-type {\n",
       "        vertical-align: middle;\n",
       "    }\n",
       "\n",
       "    .dataframe tbody tr th {\n",
       "        vertical-align: top;\n",
       "    }\n",
       "\n",
       "    .dataframe thead th {\n",
       "        text-align: right;\n",
       "    }\n",
       "</style>\n",
       "<table border=\"1\" class=\"dataframe\">\n",
       "  <thead>\n",
       "    <tr style=\"text-align: right;\">\n",
       "      <th></th>\n",
       "      <th>age</th>\n",
       "      <th>cp</th>\n",
       "      <th>trestbps</th>\n",
       "      <th>chol</th>\n",
       "      <th>fbs</th>\n",
       "      <th>thalach</th>\n",
       "      <th>exang</th>\n",
       "      <th>oldpeak</th>\n",
       "      <th>ca</th>\n",
       "      <th>thal</th>\n",
       "      <th>num</th>\n",
       "    </tr>\n",
       "  </thead>\n",
       "  <tbody>\n",
       "    <tr>\n",
       "      <th>0</th>\n",
       "      <td>63.0</td>\n",
       "      <td>1.0</td>\n",
       "      <td>145.0</td>\n",
       "      <td>233.0</td>\n",
       "      <td>1.0</td>\n",
       "      <td>150.0</td>\n",
       "      <td>0.0</td>\n",
       "      <td>2.3</td>\n",
       "      <td>0.0</td>\n",
       "      <td>6.0</td>\n",
       "      <td>0.0</td>\n",
       "    </tr>\n",
       "    <tr>\n",
       "      <th>1</th>\n",
       "      <td>67.0</td>\n",
       "      <td>4.0</td>\n",
       "      <td>160.0</td>\n",
       "      <td>286.0</td>\n",
       "      <td>0.0</td>\n",
       "      <td>108.0</td>\n",
       "      <td>1.0</td>\n",
       "      <td>1.5</td>\n",
       "      <td>3.0</td>\n",
       "      <td>3.0</td>\n",
       "      <td>2.0</td>\n",
       "    </tr>\n",
       "    <tr>\n",
       "      <th>2</th>\n",
       "      <td>67.0</td>\n",
       "      <td>4.0</td>\n",
       "      <td>120.0</td>\n",
       "      <td>229.0</td>\n",
       "      <td>0.0</td>\n",
       "      <td>129.0</td>\n",
       "      <td>1.0</td>\n",
       "      <td>2.6</td>\n",
       "      <td>2.0</td>\n",
       "      <td>7.0</td>\n",
       "      <td>1.0</td>\n",
       "    </tr>\n",
       "    <tr>\n",
       "      <th>3</th>\n",
       "      <td>37.0</td>\n",
       "      <td>3.0</td>\n",
       "      <td>130.0</td>\n",
       "      <td>250.0</td>\n",
       "      <td>0.0</td>\n",
       "      <td>187.0</td>\n",
       "      <td>0.0</td>\n",
       "      <td>3.5</td>\n",
       "      <td>0.0</td>\n",
       "      <td>3.0</td>\n",
       "      <td>0.0</td>\n",
       "    </tr>\n",
       "    <tr>\n",
       "      <th>4</th>\n",
       "      <td>41.0</td>\n",
       "      <td>2.0</td>\n",
       "      <td>130.0</td>\n",
       "      <td>204.0</td>\n",
       "      <td>0.0</td>\n",
       "      <td>172.0</td>\n",
       "      <td>0.0</td>\n",
       "      <td>1.4</td>\n",
       "      <td>0.0</td>\n",
       "      <td>3.0</td>\n",
       "      <td>0.0</td>\n",
       "    </tr>\n",
       "  </tbody>\n",
       "</table>\n",
       "</div>"
      ],
      "text/plain": [
       "    age   cp  trestbps   chol  fbs  thalach  exang  oldpeak   ca  thal  num\n",
       "0  63.0  1.0     145.0  233.0  1.0    150.0    0.0      2.3  0.0   6.0  0.0\n",
       "1  67.0  4.0     160.0  286.0  0.0    108.0    1.0      1.5  3.0   3.0  2.0\n",
       "2  67.0  4.0     120.0  229.0  0.0    129.0    1.0      2.6  2.0   7.0  1.0\n",
       "3  37.0  3.0     130.0  250.0  0.0    187.0    0.0      3.5  0.0   3.0  0.0\n",
       "4  41.0  2.0     130.0  204.0  0.0    172.0    0.0      1.4  0.0   3.0  0.0"
      ]
     },
     "execution_count": 56,
     "metadata": {},
     "output_type": "execute_result"
    }
   ],
   "source": [
    "# Dropping the following features as their p-value was higher than 0.5\n",
    "\n",
    "data = data.drop(columns=[\"id\",\"sex\", \"restecg\",\"slope\"] )\n",
    "data.head()"
   ]
  },
  {
   "cell_type": "code",
   "execution_count": 57,
   "metadata": {},
   "outputs": [
    {
     "data": {
      "image/png": "[encoded data removed]",
      "text/plain": [
       "<Figure size 1080x1080 with 1 Axes>"
      ]
     },
     "metadata": {},
     "output_type": "display_data"
    }
   ],
   "source": [
    "boxplot = data.boxplot(grid=False, rot=45,figsize=(15,15), fontsize=15) "
   ]
  },
  {
   "cell_type": "markdown",
   "metadata": {},
   "source": [
    "There aren't much outliers too, so right now I am not removing or changing any values."
   ]
  },
  {
   "cell_type": "code",
   "execution_count": 58,
   "metadata": {},
   "outputs": [],
   "source": [
    "# Dividing the whole set into the input set X and output set y. Since ID is not useful right now, I am dropping it.\n",
    "#Splitting the entire data into train and test before doing any transformation.(keeping aside the test set)\n",
    "\n",
    "X = data.drop(columns=[\"num\"])\n",
    "y = data[['num']]\n",
    "from sklearn.model_selection import train_test_split\n",
    "X_train, X_test, y_train, y_test = train_test_split(X, y, test_size=0.25, random_state=42, stratify=y)\n"
   ]
  },
  {
   "cell_type": "markdown",
   "metadata": {},
   "source": [
    "***\n",
    "## Section: 2.3 - Transform the attributes\n",
    "- Consider transforming the remaining attributes (e.g., using the data dictionary to replace the numbers with text values for some attributes – this might or might not be useful), normalizing / scaling values, encoding labels (if necessary), etc.\n",
    "- Describe what you chose to do (and not do), and why.\n",
    "***"
   ]
  },
  {
   "cell_type": "markdown",
   "metadata": {},
   "source": [
    "We can use the following text for each five different outcomes, instead of just numbers. It's a nice way to see what the outcomes actually means rather than just seeing some random numbers.\n",
    "0. No heart health issues / risk\n",
    "1. Slight heart health issues / risk\n",
    "2. Moderate heart health issues / risk\n",
    "3. High heart health issues / risk\n",
    "4. Extreme heart health issue / risk\n",
    "\n",
    "I did not change it though in our case."
   ]
  },
  {
   "cell_type": "markdown",
   "metadata": {},
   "source": [
    "***\n",
    "# Section: 3 - Evaluation of the Off-The-Shelf KNN Classifier\n",
    "- Select the KNN classifier from the SciKit Learn library and run it on the dataset.\n",
    "***"
   ]
  },
  {
   "cell_type": "markdown",
   "metadata": {},
   "source": [
    "***\n",
    "## Section: 3.1 - Configure the off-the-shelf KNN classifier\n",
    "- Use the KNeighborsClassifier from the SciKit Learn library\n",
    "- Explain all setup, parameters and execution options you chose to set, and why.\n",
    "***"
   ]
  },
  {
   "cell_type": "code",
   "execution_count": 59,
   "metadata": {},
   "outputs": [],
   "source": [
    "from sklearn.neighbors import KNeighborsClassifier\n",
    "from sklearn.metrics import confusion_matrix, accuracy_score, roc_curve, auc\n",
    "from sklearn.model_selection import cross_val_score\n"
   ]
  },
  {
   "cell_type": "code",
   "execution_count": 60,
   "metadata": {},
   "outputs": [],
   "source": [
    "#Source: Greg's Classroom materials\n",
    "# Instantiate learning model (k = 6)\n",
    "knn_clf = KNeighborsClassifier(n_neighbors=6)  # I choose 6 because there are 5 different classes. so, at least two of the oints out of 6 will be of the same type\n"
   ]
  },
  {
   "cell_type": "markdown",
   "metadata": {},
   "source": [
    "***\n",
    "## Section: 3.2 - Run and evaluate the classifier\n",
    "- Try several values of the K parameter and compare the results.\n",
    "- Evaluate the performance of the classifier, using the evaluation method you defined above.\n",
    "***"
   ]
  },
  {
   "cell_type": "code",
   "execution_count": 61,
   "metadata": {},
   "outputs": [],
   "source": [
    "\n",
    "# Fitting the model\n",
    "knn_clf.fit(X_train, y_train.squeeze())\n",
    "\n",
    "# Predicting the Test set results\n",
    "knn_y_pred = knn_clf.predict(X_test)"
   ]
  },
  {
   "cell_type": "code",
   "execution_count": 62,
   "metadata": {},
   "outputs": [
    {
     "data": {
      "text/plain": [
       "array([[39,  0,  0,  0,  0],\n",
       "       [ 7,  1,  4,  0,  1],\n",
       "       [ 5,  2,  1,  0,  0],\n",
       "       [ 5,  1,  1,  1,  0],\n",
       "       [ 3,  0,  0,  0,  0]], dtype=int64)"
      ]
     },
     "execution_count": 62,
     "metadata": {},
     "output_type": "execute_result"
    }
   ],
   "source": [
    "knn_cm = confusion_matrix(y_test, knn_y_pred)\n",
    "knn_cm\n"
   ]
  },
  {
   "cell_type": "code",
   "execution_count": 63,
   "metadata": {},
   "outputs": [
    {
     "name": "stdout",
     "output_type": "stream",
     "text": [
      "Accuracy of our model is equal 59.15 %.\n"
     ]
    }
   ],
   "source": [
    "knn_accuracy = accuracy_score(y_test, knn_y_pred)*100\n",
    "print('Accuracy of our model is equal ' + str(round(knn_accuracy, 2)) + ' %.')"
   ]
  },
  {
   "cell_type": "code",
   "execution_count": 64,
   "metadata": {},
   "outputs": [
    {
     "data": {
      "text/plain": [
       "14600.0"
      ]
     },
     "execution_count": 64,
     "metadata": {},
     "output_type": "execute_result"
    }
   ],
   "source": [
    "knn_Benefit = calculate_cost(knn_cm)\n",
    "knn_Benefit"
   ]
  },
  {
   "cell_type": "code",
   "execution_count": 65,
   "metadata": {},
   "outputs": [],
   "source": [
    "# creating list of K for KNN \n",
    "\n",
    "k_list = list(range(1,50,1))\n",
    "# creating list of cv scores\n",
    "knn_cv_scores = []\n",
    "\n",
    "for k in k_list:\n",
    "    knn = KNeighborsClassifier(n_neighbors=k)\n",
    "    knn_scores = cross_val_score(knn, X_train, y_train.squeeze(), cv=10, scoring='accuracy')\n",
    "    knn_cv_scores.append(knn_scores.mean())"
   ]
  },
  {
   "cell_type": "code",
   "execution_count": 66,
   "metadata": {},
   "outputs": [
    {
     "data": {
      "text/plain": [
       "<Figure size 432x288 with 0 Axes>"
      ]
     },
     "metadata": {},
     "output_type": "display_data"
    },
    {
     "data": {
      "image/png": "[encoded data removed]",
      "text/plain": [
       "<Figure size 1080x720 with 1 Axes>"
      ]
     },
     "metadata": {},
     "output_type": "display_data"
    }
   ],
   "source": [
    "# Modeled from: https://www.kaggle.com/skalskip/iris-data-visualization-and-knn-classification\n",
    "\n",
    "def optimal_knn_value (k_list, knn_cv_scores):\n",
    "\n",
    "    plt.figure()\n",
    "    plt.figure(figsize=(15,10))\n",
    "    plt.title('The optimal number of neighbors', fontsize=20, fontweight='bold')\n",
    "    plt.xlabel('Number of Neighbors K', fontsize=15)\n",
    "    plt.ylabel('Accuracy', fontsize=15)\n",
    "    sns.set_style(\"whitegrid\")\n",
    "    plt.plot(k_list, knn_cv_scores)\n",
    "    plt.show()\n",
    "    \n",
    "optimal_knn_value(k_list, knn_cv_scores)"
   ]
  },
  {
   "cell_type": "code",
   "execution_count": 67,
   "metadata": {},
   "outputs": [
    {
     "data": {
      "text/plain": [
       "0.5640692640692639"
      ]
     },
     "execution_count": 67,
     "metadata": {},
     "output_type": "execute_result"
    }
   ],
   "source": [
    "knn_cv_scores[25]"
   ]
  },
  {
   "cell_type": "code",
   "execution_count": 68,
   "metadata": {},
   "outputs": [
    {
     "name": "stdout",
     "output_type": "stream",
     "text": [
      "[[39  0  0  0  0]\n",
      " [10  0  3  0  0]\n",
      " [ 6  0  2  0  0]\n",
      " [ 7  0  1  0  0]\n",
      " [ 3  0  0  0  0]]\n",
      "Accuracy of our model is equal 57.75 %.\n"
     ]
    }
   ],
   "source": [
    "# Instantiate learning model (k = 24)\n",
    "knn_final_classifier = KNeighborsClassifier(n_neighbors=24)\n",
    "\n",
    "# Fitting the model\n",
    "knn_final_classifier.fit(X_train, y_train.squeeze())\n",
    "\n",
    "# Predicting the Test set results\n",
    "knn_final_y_pred = knn_final_classifier.predict(X_test)\n",
    "\n",
    "knn_final_cm = confusion_matrix(y_test, knn_final_y_pred)\n",
    "print(knn_final_cm)\n",
    "knn_final_accuracy = accuracy_score(y_test, knn_final_y_pred)*100\n",
    "print('Accuracy of our model is equal ' + str(round(knn_final_accuracy, 2)) + ' %.')"
   ]
  },
  {
   "cell_type": "code",
   "execution_count": 69,
   "metadata": {},
   "outputs": [
    {
     "data": {
      "text/plain": [
       "14200.0"
      ]
     },
     "execution_count": 69,
     "metadata": {},
     "output_type": "execute_result"
    }
   ],
   "source": [
    "knn_final_Benefit = calculate_cost(knn_final_cm)\n",
    "knn_final_Benefit"
   ]
  },
  {
   "cell_type": "markdown",
   "metadata": {},
   "source": [
    "Now, we will be plotting the ROC curve. Since we need a binary outcome so we must plot multiple curves."
   ]
  },
  {
   "cell_type": "code",
   "execution_count": 70,
   "metadata": {},
   "outputs": [
    {
     "data": {
      "text/plain": [
       "array([[0.79166667, 0.125     , 0.        , 0.04166667, 0.04166667],\n",
       "       [0.625     , 0.16666667, 0.125     , 0.08333333, 0.        ],\n",
       "       [0.75      , 0.125     , 0.        , 0.08333333, 0.04166667],\n",
       "       [0.375     , 0.33333333, 0.125     , 0.16666667, 0.        ],\n",
       "       [0.70833333, 0.125     , 0.04166667, 0.125     , 0.        ],\n",
       "       [0.54166667, 0.16666667, 0.08333333, 0.125     , 0.08333333],\n",
       "       [0.83333333, 0.08333333, 0.        , 0.08333333, 0.        ],\n",
       "       [0.79166667, 0.08333333, 0.08333333, 0.04166667, 0.        ],\n",
       "       [0.79166667, 0.125     , 0.        , 0.04166667, 0.04166667],\n",
       "       [0.79166667, 0.08333333, 0.04166667, 0.08333333, 0.        ]])"
      ]
     },
     "execution_count": 70,
     "metadata": {},
     "output_type": "execute_result"
    }
   ],
   "source": [
    "knn_y_scores = knn_final_classifier.predict_proba(X_test)\n",
    "knn_y_scores[0:10,:]"
   ]
  },
  {
   "cell_type": "code",
   "execution_count": 71,
   "metadata": {},
   "outputs": [
    {
     "name": "stdout",
     "output_type": "stream",
     "text": [
      "     num\n",
      "277  0.0\n",
      "182  0.0\n",
      "8    2.0\n",
      "67   0.0\n",
      "273  0.0\n",
      "179  0.0\n",
      "101  0.0\n",
      "268  1.0\n",
      "57   1.0\n",
      "[[1 0 0 0 0]\n",
      " [1 0 0 0 0]\n",
      " [0 0 1 0 0]\n",
      " [1 0 0 0 0]\n",
      " [1 0 0 0 0]\n",
      " [1 0 0 0 0]\n",
      " [1 0 0 0 0]\n",
      " [0 1 0 0 0]\n",
      " [0 1 0 0 0]]\n"
     ]
    }
   ],
   "source": [
    "from sklearn.preprocessing import label_binarize\n",
    "y_test_binary = label_binarize(y_test, classes = [0,1,2,3,4])\n",
    "print(y_test.iloc[1:10,:])\n",
    "print(y_test_binary[1:10,:])"
   ]
  },
  {
   "cell_type": "code",
   "execution_count": 72,
   "metadata": {},
   "outputs": [],
   "source": [
    "from sklearn.metrics import roc_curve\n",
    "from sklearn.metrics import auc\n",
    "\n",
    "from itertools import cycle\n",
    "plt.style.use('ggplot')\n",
    "\n",
    "def make_multi_roc(y_test_binary, y_scores, title, n_classes = 5):\n",
    "    fpr = dict()\n",
    "    tpr = dict()\n",
    "    roc_auc = dict()\n",
    "    for i in range(n_classes):\n",
    "        fpr[i], tpr[i], _ = roc_curve(y_test_binary[:, i], y_scores[:, i])\n",
    "        roc_auc[i] = auc(fpr[i], tpr[i])\n",
    "    colors = cycle(['blue', 'red', 'green','brown','pink'])\n",
    "    for i, color in zip(range(n_classes), colors):\n",
    "        plt.plot(fpr[i], tpr[i], color=color, lw=1.5,\n",
    "                 label='ROC curve of class {0} (area = {1:0.5f})'\n",
    "                 ''.format(i, roc_auc[i]))\n",
    "    plt.plot([0, 1], [0, 1], 'k--', lw=1.5)\n",
    "    plt.xlim([-0.05, 1.0])\n",
    "    plt.ylim([0.0, 1.05])\n",
    "    plt.xlabel('False Positive Rate')\n",
    "    plt.ylabel('True Positive Rate')\n",
    "    plt.title(title + ' - ROC for multi-class data')\n",
    "    plt.legend(loc=\"lower right\")\n",
    "    plt.show() "
   ]
  },
  {
   "cell_type": "code",
   "execution_count": 73,
   "metadata": {},
   "outputs": [
    {
     "data": {
      "image/png": "[encoded data removed]",
      "text/plain": [
       "<Figure size 432x288 with 1 Axes>"
      ]
     },
     "metadata": {},
     "output_type": "display_data"
    }
   ],
   "source": [
    "make_multi_roc(y_test_binary, knn_y_scores, \"kNN\")"
   ]
  },
  {
   "cell_type": "markdown",
   "metadata": {},
   "source": [
    "Notice that the curve for class 4 is very weired. It might be because we don't have many data points whose outcome is 4. This maybe because 4 is an extreme value, and collecting such data might be difficult.\n",
    "\n",
    "We will notice the same kind of pattern for the other two ROC curves below."
   ]
  },
  {
   "cell_type": "markdown",
   "metadata": {},
   "source": [
    "***\n",
    "## Section: 3.3 - Evaluate the choice of the KNN classifier\n",
    "- What characteristics of the problem and data made KNN a good or bad choice?\n",
    "***"
   ]
  },
  {
   "cell_type": "markdown",
   "metadata": {},
   "source": [
    "KNN uses all the data points in the data set to calculate the distances. So if we have a small dataset, the the calculation will be faster. And, since we have a small dataset, KNN classifier as the classifier does the execution in shorter time duration. \n",
    "\n",
    "In our case, there are many features. Thus KNN is not the best I suppose. KNN performs best with a low number of features. When the number of features increases, then it requires more data. When there’s more data, it creates an overfitting problem because no one knows which piece of noise will contribute to the model. KNN performs better with low dimensionality (as demonstrated by a study by Gu and Shao in 2014). \n",
    "\n",
    "Source: https://www.researchgate.net/publication/232406523_An_Improved_k-Nearest_Neighbor_Algorithm_for_Text_Categorization"
   ]
  },
  {
   "cell_type": "markdown",
   "metadata": {},
   "source": [
    "***\n",
    "# Section: 4 - Evaluation of Off-The-Shelf Classifier #2\n",
    "- As with the KNN classifier above, choose another classifier from the SciKit Learn library (Decision Tree, SVM, Logistic Regression, etc.) and run it on the dataset.\n",
    "***"
   ]
  },
  {
   "cell_type": "markdown",
   "metadata": {},
   "source": [
    "***\n",
    "## Section: 4.1 - Configure the classifier\n",
    "- Use the appropriate classifier from the SciKit Learn library.\n",
    "- Explain all setup, parameters and execution options you chose to set, and why.\n",
    "***"
   ]
  },
  {
   "cell_type": "code",
   "execution_count": 74,
   "metadata": {},
   "outputs": [],
   "source": [
    "#fitting logistic model\n",
    "from sklearn.linear_model import LogisticRegression\n",
    "clf = LogisticRegression() # This is the default setup"
   ]
  },
  {
   "cell_type": "markdown",
   "metadata": {},
   "source": [
    "***\n",
    "## Section: 4.2 - Run and evaluate the classifier\n",
    "- Try several values of the parameters (if appropriate) and compare the results.\n",
    "- Evaluate the performance of the classifier, using the evaluation method you defined above.\n",
    "***"
   ]
  },
  {
   "cell_type": "code",
   "execution_count": 75,
   "metadata": {},
   "outputs": [
    {
     "name": "stdout",
     "output_type": "stream",
     "text": [
      "0.5774647887323944\n",
      "              precision    recall  f1-score   support\n",
      "\n",
      "         0.0       0.73      0.97      0.84        39\n",
      "         1.0       0.22      0.15      0.18        13\n",
      "         2.0       0.11      0.12      0.12         8\n",
      "         3.0       0.00      0.00      0.00         8\n",
      "         4.0       0.00      0.00      0.00         3\n",
      "\n",
      "    accuracy                           0.58        71\n",
      "   macro avg       0.21      0.25      0.23        71\n",
      "weighted avg       0.45      0.58      0.51        71\n",
      "\n",
      "[[38  1  0  0  0]\n",
      " [ 7  2  4  0  0]\n",
      " [ 2  4  1  1  0]\n",
      " [ 2  2  4  0  0]\n",
      " [ 3  0  0  0  0]]\n",
      "Accuracy of our model is equal 57.75 %.\n"
     ]
    }
   ],
   "source": [
    "clf.fit(X_train, y_train)\n",
    "\n",
    "y_pred = clf.predict(X_test)\n",
    "\n",
    "print(accuracy_score(y_test, y_pred))\n",
    "print(classification_report(y_test, y_pred))\n",
    "print(confusion_matrix(y_test, y_pred))\n",
    "lr_cm = confusion_matrix(y_test, y_pred)\n",
    "lr_accuracy = accuracy_score(y_test, y_pred)*100\n",
    "print('Accuracy of our model is equal ' + str(round(lr_accuracy, 2)) + ' %.')\n"
   ]
  },
  {
   "cell_type": "code",
   "execution_count": null,
   "metadata": {},
   "outputs": [],
   "source": []
  },
  {
   "cell_type": "code",
   "execution_count": 76,
   "metadata": {},
   "outputs": [
    {
     "data": {
      "text/plain": [
       "12400.0"
      ]
     },
     "execution_count": 76,
     "metadata": {},
     "output_type": "execute_result"
    }
   ],
   "source": [
    "lr_benefit = calculate_cost(lr_cm)\n",
    "lr_benefit"
   ]
  },
  {
   "cell_type": "code",
   "execution_count": 77,
   "metadata": {},
   "outputs": [
    {
     "data": {
      "text/plain": [
       "array([[0.55454263, 0.31655563, 0.01332567, 0.10286642, 0.01270965],\n",
       "       [0.76179716, 0.13752251, 0.01960404, 0.03853116, 0.04254513],\n",
       "       [0.85707014, 0.08876925, 0.00876914, 0.02488932, 0.02050215],\n",
       "       [0.28330268, 0.31479062, 0.18449401, 0.1835872 , 0.03382549],\n",
       "       [0.40169605, 0.34116302, 0.06041532, 0.1312604 , 0.06546521],\n",
       "       [0.75743519, 0.11353925, 0.10447601, 0.01763215, 0.00691739],\n",
       "       [0.85101119, 0.09389673, 0.01932744, 0.02814863, 0.00761601],\n",
       "       [0.89969899, 0.07752867, 0.00325863, 0.01233666, 0.00717706],\n",
       "       [0.39024575, 0.37444519, 0.01876985, 0.13467669, 0.08186252],\n",
       "       [0.34473345, 0.42977019, 0.03358129, 0.15671741, 0.03519766]])"
      ]
     },
     "execution_count": 77,
     "metadata": {},
     "output_type": "execute_result"
    }
   ],
   "source": [
    "clf_y_scores = clf.predict_proba(X_test)\n",
    "clf_y_scores[0:10,:]"
   ]
  },
  {
   "cell_type": "markdown",
   "metadata": {},
   "source": [
    "### ROC Curve"
   ]
  },
  {
   "cell_type": "code",
   "execution_count": 78,
   "metadata": {},
   "outputs": [
    {
     "data": {
      "image/png": "[encoded data removed]",
      "text/plain": [
       "<Figure size 432x288 with 1 Axes>"
      ]
     },
     "metadata": {},
     "output_type": "display_data"
    }
   ],
   "source": [
    "make_multi_roc(y_test_binary, clf_y_scores, \"Logistic Regression\")"
   ]
  },
  {
   "cell_type": "markdown",
   "metadata": {},
   "source": [
    "***\n",
    "## Section: 4.3 - Evaluate the choice of the classifier\n",
    "- What characteristics of the problem and data made the classifier a good or bad choice?\n",
    "***"
   ]
  },
  {
   "cell_type": "markdown",
   "metadata": {},
   "source": [
    "Logistic regression doesn't require high computation power, is easy to implement. \n",
    "I did not do any feature scaling of the features, thus Logistic regression is a good classifier model for our case.\n",
    "\n",
    "After dropping few of the columns from the dataset, we notice that all the features which we have kept are correlated with the outcome. Thus again Logistic regression is good in this situation."
   ]
  },
  {
   "cell_type": "markdown",
   "metadata": {},
   "source": [
    "***\n",
    "# Section: 5 - Evaluation of Off-The-Shelf Classifier #3\n",
    "- As with the KNN classifier above, choose another classifier from the SciKit Learn library (Decision Tree, SVM, Logistic Regression, etc.) and run it on the dataset.\n",
    "***"
   ]
  },
  {
   "cell_type": "markdown",
   "metadata": {},
   "source": [
    "***\n",
    "## Section: 5.1 - Configure the classifier\n",
    "- Use the appropriate classifier from the SciKit Learn library.\n",
    "- Explain all setup, parameters and execution options you chose to set, and why.\n",
    "***"
   ]
  },
  {
   "cell_type": "code",
   "execution_count": 79,
   "metadata": {},
   "outputs": [],
   "source": [
    "from sklearn.ensemble import RandomForestClassifier\n",
    "\n",
    "#Create a Gaussian Classifier\n",
    "rf_clf=RandomForestClassifier(n_estimators=700) # I took 700, as I was getting high benefit for it."
   ]
  },
  {
   "cell_type": "markdown",
   "metadata": {},
   "source": [
    "***\n",
    "## Section: 5.2 - Run and evaluate the classifier\n",
    "- Try several values of the parameters (if appropriate) and compare the results.\n",
    "- Evaluate the performance of the classifier, using the evaluation method you defined above.\n",
    "***"
   ]
  },
  {
   "cell_type": "code",
   "execution_count": 80,
   "metadata": {},
   "outputs": [],
   "source": [
    "\n",
    "\n",
    "#Train the model using the training sets y_pred=clf.predict(X_test)\n",
    "rf_clf.fit(X_train,y_train.squeeze())\n",
    "\n",
    "rf_y_pred=rf_clf.predict(X_test)"
   ]
  },
  {
   "cell_type": "code",
   "execution_count": 81,
   "metadata": {},
   "outputs": [
    {
     "name": "stdout",
     "output_type": "stream",
     "text": [
      "[[37  0  1  1  0]\n",
      " [ 7  2  2  2  0]\n",
      " [ 3  3  1  1  0]\n",
      " [ 1  3  1  2  1]\n",
      " [ 2  1  0  0  0]]\n",
      "Accuracy of our model is equal 59.15 %.\n"
     ]
    }
   ],
   "source": [
    "rf_cm = confusion_matrix(y_test, rf_y_pred)\n",
    "print(rf_cm)\n",
    "rf_accuracy = accuracy_score(y_test, rf_y_pred)*100\n",
    "print('Accuracy of our model is equal ' + str(round(rf_accuracy, 2)) + ' %.')"
   ]
  },
  {
   "cell_type": "code",
   "execution_count": 82,
   "metadata": {},
   "outputs": [
    {
     "data": {
      "text/plain": [
       "14800.0"
      ]
     },
     "execution_count": 82,
     "metadata": {},
     "output_type": "execute_result"
    }
   ],
   "source": [
    "rf_benefit = calculate_cost(rf_cm)\n",
    "rf_benefit"
   ]
  },
  {
   "cell_type": "markdown",
   "metadata": {},
   "source": [
    "### ROC Curve"
   ]
  },
  {
   "cell_type": "code",
   "execution_count": 83,
   "metadata": {},
   "outputs": [
    {
     "data": {
      "text/plain": [
       "array([[0.57285714, 0.31857143, 0.01857143, 0.03571429, 0.05428571],\n",
       "       [0.90714286, 0.07571429, 0.00142857, 0.01285714, 0.00285714],\n",
       "       [0.64571429, 0.19428571, 0.06285714, 0.08571429, 0.01142857],\n",
       "       [0.13428571, 0.39857143, 0.31142857, 0.11285714, 0.04285714],\n",
       "       [0.64      , 0.24142857, 0.01428571, 0.05714286, 0.04714286],\n",
       "       [0.66428571, 0.10714286, 0.15571429, 0.04428571, 0.02857143],\n",
       "       [0.62      , 0.16857143, 0.06142857, 0.14285714, 0.00714286],\n",
       "       [0.89714286, 0.05857143, 0.00714286, 0.00428571, 0.03285714],\n",
       "       [0.60142857, 0.16428571, 0.01714286, 0.15714286, 0.06      ],\n",
       "       [0.69571429, 0.14142857, 0.05      , 0.11142857, 0.00142857]])"
      ]
     },
     "execution_count": 83,
     "metadata": {},
     "output_type": "execute_result"
    }
   ],
   "source": [
    "rf_y_scores = rf_clf.predict_proba(X_test)\n",
    "rf_y_scores[0:10,:]"
   ]
  },
  {
   "cell_type": "code",
   "execution_count": 84,
   "metadata": {},
   "outputs": [
    {
     "data": {
      "image/png": "[encoded data removed]",
      "text/plain": [
       "<Figure size 432x288 with 1 Axes>"
      ]
     },
     "metadata": {},
     "output_type": "display_data"
    }
   ],
   "source": [
    "make_multi_roc(y_test_binary, rf_y_scores, \"Random Forest\")"
   ]
  },
  {
   "cell_type": "markdown",
   "metadata": {},
   "source": [
    "***\n",
    "## Section: 5.3 - Evaluate the choice of the classifier\n",
    "- What characteristics of the problem and data made the classifier a good or bad choice?\n",
    "***"
   ]
  },
  {
   "cell_type": "markdown",
   "metadata": {},
   "source": [
    "It can handle large datasets efficiently.\n",
    "The random forest algorithm provides a higher level of accuracy in predicting outcomes. Thus it is very helpful in strategic decision making in organizations, and is good for our dataset"
   ]
  },
  {
   "cell_type": "markdown",
   "metadata": {},
   "source": [
    "***\n",
    "# Section: 6 - Comparison of the Three Classifiers\n",
    "***"
   ]
  },
  {
   "cell_type": "markdown",
   "metadata": {},
   "source": [
    "***\n",
    "## Section: 6.1 - Compare the performance of these classifiers to each other\n",
    "- What are their strong and weak points?\n",
    "***"
   ]
  },
  {
   "cell_type": "markdown",
   "metadata": {},
   "source": []
  },
  {
   "cell_type": "markdown",
   "metadata": {},
   "source": [
    "### KNN\n",
    "\n",
    "Advantages:\n",
    "1. It does not learn anything in the training period. This makes the KNN algorithm much faster than other algorithms that require training e.g. SVM, Linear Regression etc.\n",
    "2. New data can be added seamlessly which will not impact the accuracy of the algorithm.\n",
    "3. It requires only two parameters- the value of $k$ and the distance function\n",
    "\n",
    "Disadvantages:\n",
    "1. In large datasets, the cost of calculating the distance between the new point and each existing points takes a significant amount of time.\n",
    "2. The KNN algorithm is not great with lots of features, it becomes difficult for the algorithm to calculate the distance.\n",
    "\n",
    "Source: http://theprofessionalspoint.blogspot.com/2019/02/advantages-and-disadvantages-of-knn.html\n",
    "\n",
    "### Logistic Regression\n",
    "\n",
    "Advantages:\n",
    "1. Logistic Regression is one of the simplest machine learning algorithms and is easy to implement.\n",
    "2. The coefficients for each features give inference about the importance of each feature. \n",
    "\n",
    "Disadvantages:\n",
    "1. Logistic Regression requires a large dataset and also sufficient training examples for all the categories it needs to identify.\n",
    "\n",
    "Source: https://iq.opengenus.org/advantages-and-disadvantages-of-logistic-regression/\n",
    "\n",
    "### Random Forest\n",
    "\n",
    "Advantages:\n",
    "1. It can perform both regression and classification tasks.\n",
    "2. It can handle large datasets efficiently.\n",
    "\n",
    "Disadvantages:\n",
    "1. The running time is high.\n"
   ]
  },
  {
   "cell_type": "code",
   "execution_count": 85,
   "metadata": {},
   "outputs": [
    {
     "name": "stdout",
     "output_type": "stream",
     "text": [
      "╒═════════════════════╤════════════╤═══════════╕\n",
      "│ Classifiers         │   Accuracy │   Benefit │\n",
      "╞═════════════════════╪════════════╪═══════════╡\n",
      "│ KNN                 │      57.75 │     14200 │\n",
      "├─────────────────────┼────────────┼───────────┤\n",
      "│ Logistic Regression │      57.75 │     12400 │\n",
      "├─────────────────────┼────────────┼───────────┤\n",
      "│ Random Forest       │      59.15 │     14800 │\n",
      "╘═════════════════════╧════════════╧═══════════╛\n"
     ]
    }
   ],
   "source": [
    "\n",
    "from tabulate import tabulate\n",
    "\n",
    "m = np.array([['KNN',57.75, 14200],[ 'Logistic Regression', 57.75, 12400],[ 'Random Forest', 59.15,14800],\n",
    "                      ])\n",
    "headers = ['Classifiers','Accuracy' , 'Benefit' ]\n",
    "# Generate the table in fancy format.\n",
    "table = tabulate(m, headers, tablefmt=\"fancy_grid\")\n",
    "\n",
    "\n",
    "print(table)"
   ]
  },
  {
   "cell_type": "markdown",
   "metadata": {},
   "source": [
    "Even though KNN and Logistic regression arehave same accuracy, the benefit of KNN is higher that Logistic regression. Thus out of the two KNN is a better classifier for our dataset."
   ]
  },
  {
   "cell_type": "markdown",
   "metadata": {},
   "source": [
    "***\n",
    "## Section: 6.2 - Choose a Best Classifier\n",
    "- Choose one of the three classifiers as best and explain why.\n",
    "***"
   ]
  },
  {
   "cell_type": "markdown",
   "metadata": {},
   "source": [
    "We want to maximize the benefit as much as possible for our given problem. As we can see from the above table, Random forest has highest accuracy and Benefit value, so I will choose Random forest as the best out of all the three classifiers. "
   ]
  },
  {
   "cell_type": "markdown",
   "metadata": {},
   "source": [
    "***\n",
    "# Section: 7 - Conclusions\n",
    "- Write a paragraph on what you discovered or learned from this homework.\n",
    "***"
   ]
  },
  {
   "cell_type": "markdown",
   "metadata": {},
   "source": [
    "The problem given to us for this homework was a multi category classifying problems. Using the dataset, we had to come up with an algorithm which helps us predict the severity of heart disease (either 0,1,2,3 or 4) for a given person given certain features. So, we had to investigate which model we should use. I choose three classifiers and evaluated their efficiencies in classification based on the net benefit metric.\n",
    "\n",
    "For finding the efficiency, we created a  cost matrix which is used to calculate the cost of each classifier.\n",
    "\n",
    "In the case of KNN, we had to find the best $k$ value for which we get maximum accuracy. This enabled us to tune the classifier to achieve good performance. \n",
    "\n",
    "For Random Forest, I had to run the code for several values which indicates the number of trees in a forest, and chose the one which gives higher accuracy and net benefits.\n",
    "\n",
    "Out of the three classifiers, we then selected the one which gave us the highest benefit and accuracy. This assignment helped us to learn how to select and evaluate the best classifier depending on the outcomes we need.\n"
   ]
  },
  {
   "cell_type": "markdown",
   "metadata": {},
   "source": [
    "***\n",
    "### END-OF-SUBMISSION\n",
    "***"
   ]
  },
  {
   "cell_type": "markdown",
   "metadata": {},
   "source": []
  },
  {
   "cell_type": "markdown",
   "metadata": {},
   "source": []
  }
 ],
 "metadata": {
  "kernelspec": {
   "display_name": "Python 3",
   "language": "python",
   "name": "python3"
  },
  "language_info": {
   "codemirror_mode": {
    "name": "ipython",
    "version": 3
   },
   "file_extension": ".py",
   "mimetype": "text/x-python",
   "name": "python",
   "nbconvert_exporter": "python",
   "pygments_lexer": "ipython3",
   "version": "3.8.5"
  },
  "vscode": {
   "interpreter": {
    "hash": "857eefc73fd19416af193f754ba8996a89eb2efb6cd898e9a6a26d026d3edfc9"
   }
  }
 },
 "nbformat": 4,
 "nbformat_minor": 4
}
